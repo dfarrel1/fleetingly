{
 "cells": [
  {
   "cell_type": "markdown",
   "metadata": {},
   "source": [
    "### Test Producer\n",
    "\n",
    "`*`First need to start consumer in ./src/stream_process/kafka_message_sender.py\n",
    "(Creating an ipython notebook for that too)"
   ]
  },
  {
   "cell_type": "code",
   "execution_count": 1,
   "metadata": {
    "collapsed": false
   },
   "outputs": [],
   "source": [
    "from kafka import KafkaProducer\n",
    "import sys\n",
    "from datetime import datetime\n",
    "import time\n",
    "import pandas as pd\n",
    "import yaml\n",
    "import sys\n",
    "import signal\n",
    "\n",
    "import random\n",
    "import os.path"
   ]
  },
  {
   "cell_type": "code",
   "execution_count": 2,
   "metadata": {
    "collapsed": true
   },
   "outputs": [],
   "source": [
    "def yaml_loader(yaml_file):\n",
    "\t# os.path.dirname(os.path.realpath(__file__))\n",
    "\twith open(yaml_file) as yml:\n",
    "\t\tconfig = yaml.load(yml)\n",
    "\treturn config"
   ]
  },
  {
   "cell_type": "code",
   "execution_count": 3,
   "metadata": {
    "collapsed": true
   },
   "outputs": [],
   "source": [
    "def load_csv(path_to_data,data_columns):\n",
    "\tnchunk_data = 1\n",
    "\t# read csv as a pandas DataFrame, filtering invalid data and using only the specified columns\n",
    "\tdata_file = pd.read_csv(path_to_data,error_bad_lines=False,sep=',',header=0, iterator=True,chunksize = nchunk_data)\n",
    "\treturn data_file"
   ]
  },
  {
   "cell_type": "code",
   "execution_count": 4,
   "metadata": {
    "collapsed": true
   },
   "outputs": [],
   "source": [
    "def signal_handler(signal,frame):\n",
    "\tprint \"--\"\n",
    "\tprint \"--- kafka producer has been halted ---\"\n",
    "\tprint \"--\"\n",
    "\tsys.exit(0)"
   ]
  },
  {
   "cell_type": "code",
   "execution_count": 5,
   "metadata": {
    "collapsed": false
   },
   "outputs": [
    {
     "name": "stdout",
     "output_type": "stream",
     "text": [
      "ec2-34-198-103-9.compute-1.amazonaws.com:9092\n"
     ]
    }
   ],
   "source": [
    "# path to config file\n",
    "config_source = \"config/producer_config.yml\"\n",
    "\n",
    "# load configuration parameters\n",
    "config = yaml_loader(config_source)\n",
    "\n",
    "# initialize parameters\n",
    "topics = config['topics']\n",
    "time_buffer = config['time_buffer']\n",
    "data_source = config['data_file_name']\n",
    "data_columns = config['data_column_keys']\n",
    "port = config['port']\n",
    "print port"
   ]
  },
  {
   "cell_type": "markdown",
   "metadata": {},
   "source": [
    "MASTER NODE:\n",
    "    Hostname:   ip-172-31-1-41\n",
    "    Public DNS: ec2-34-198-103-9.compute-1.amazonaws.com\n",
    "\n",
    "WORKER NODE:\n",
    "    Hostname:   ip-172-31-1-40\n",
    "    Public DNS: ec2-34-198-102-254.compute-1.amazonaws.com\n",
    "\n",
    "WORKER NODE:\n",
    "    Hostname:   ip-172-31-1-39\n",
    "    Public DNS: ec2-34-198-22-65.compute-1.amazonaws.com\n",
    "\n",
    "WORKER NODE:\n",
    "    Hostname:   ip-172-31-1-46\n",
    "    Public DNS: ec2-34-198-102-159.compute-1.amazonaws.com"
   ]
  },
  {
   "cell_type": "code",
   "execution_count": 6,
   "metadata": {
    "collapsed": false
   },
   "outputs": [],
   "source": [
    "# path to data file\n",
    "path_to_data = os.path.abspath(os.path.join(os.getcwd(), '..',data_source))\n",
    "# load data from directory \n",
    "data_file = load_csv(path_to_data,data_columns)\n",
    "# create a producer object for the given ip\n",
    "producer = KafkaProducer(bootstrap_servers=[port])"
   ]
  },
  {
   "cell_type": "code",
   "execution_count": 7,
   "metadata": {
    "collapsed": false
   },
   "outputs": [
    {
     "name": "stdout",
     "output_type": "stream",
     "text": [
      "<kafka.producer.kafka.KafkaProducer object at 0x7ff440b03350>\n"
     ]
    }
   ],
   "source": [
    "print producer"
   ]
  },
  {
   "cell_type": "code",
   "execution_count": null,
   "metadata": {
    "collapsed": false
   },
   "outputs": [],
   "source": [
    "# run unless interrupted\n",
    "while True:\n",
    "    # iterate through DataFrame every second\n",
    "    for chunk in data_file:\n",
    "\n",
    "        # check for stopping input\n",
    "        signal.signal(signal.SIGINT , signal_handler)\n",
    "\n",
    "        # append current time to Pandas DataFrame\n",
    "        current_time = datetime.now().strftime(\"%Y-%m-%d %H:%M:%S.%f\")[:-3]\n",
    "        # current_time = datetime.now().strftime(\"%H:%M:%S.%f\")[:-3]\n",
    "        time_dataframe  = pd.DataFrame({'timestamp':[current_time]})\n",
    "\n",
    "        # select a random topic\n",
    "        rand = random.randint(0,len(topics)-1) \n",
    "        print topics[rand]\n",
    "\n",
    "        # convert DataFrame to json string \n",
    "        message = (chunk.join(time_dataframe)).to_json(double_precision=15,orient='records')\n",
    "\n",
    "        print message.strip('[]').splitlines()[0]\n",
    "        # send messages\n",
    "        producer.send(topics[rand], value = message.strip('[]').splitlines()[0])\n",
    "        #print topics[rand]\n",
    "\n",
    "        # block until all async messages are sent\n",
    "        producer.flush()\n",
    "\n",
    "        # buffer time \n",
    "        time.sleep(time_buffer)"
   ]
  },
  {
   "cell_type": "code",
   "execution_count": null,
   "metadata": {
    "collapsed": true
   },
   "outputs": [],
   "source": [
    "print 1+1"
   ]
  },
  {
   "cell_type": "code",
   "execution_count": null,
   "metadata": {
    "collapsed": true
   },
   "outputs": [],
   "source": []
  },
  {
   "cell_type": "code",
   "execution_count": null,
   "metadata": {
    "collapsed": true
   },
   "outputs": [],
   "source": []
  }
 ],
 "metadata": {
  "kernelspec": {
   "display_name": "Python 2",
   "language": "python",
   "name": "python2"
  },
  "language_info": {
   "codemirror_mode": {
    "name": "ipython",
    "version": 2
   },
   "file_extension": ".py",
   "mimetype": "text/x-python",
   "name": "python",
   "nbconvert_exporter": "python",
   "pygments_lexer": "ipython2",
   "version": "2.7.6"
  }
 },
 "nbformat": 4,
 "nbformat_minor": 0
}
