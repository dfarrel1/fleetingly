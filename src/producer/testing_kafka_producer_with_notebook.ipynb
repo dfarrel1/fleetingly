{
 "cells": [
  {
   "cell_type": "markdown",
   "metadata": {},
   "source": [
    "### Test Producer\n",
    "\n",
    "`*`First need to start consumer in ./src/stream_process/kafka_message_sender.py\n",
    "(Creating an ipython notebook for that too)"
   ]
  },
  {
   "cell_type": "code",
   "execution_count": 1,
   "metadata": {
    "collapsed": false
   },
   "outputs": [],
   "source": [
    "from kafka import KafkaProducer\n",
    "import sys\n",
    "from datetime import datetime\n",
    "import time\n",
    "import pandas as pd\n",
    "import yaml\n",
    "import sys\n",
    "import signal\n",
    "\n",
    "import random\n",
    "import os.path"
   ]
  },
  {
   "cell_type": "code",
   "execution_count": 2,
   "metadata": {
    "collapsed": true
   },
   "outputs": [],
   "source": [
    "def yaml_loader(yaml_file):\n",
    "\t# os.path.dirname(os.path.realpath(__file__))\n",
    "\twith open(yaml_file) as yml:\n",
    "\t\tconfig = yaml.load(yml)\n",
    "\treturn config"
   ]
  },
  {
   "cell_type": "code",
   "execution_count": 3,
   "metadata": {
    "collapsed": true
   },
   "outputs": [],
   "source": [
    "def load_csv(path_to_data,data_columns):\n",
    "\tnchunk_data = 1\n",
    "\t# read csv as a pandas DataFrame, filtering invalid data and using only the specified columns\n",
    "\tdata_file = pd.read_csv(path_to_data,error_bad_lines=False,sep=',',header=0, iterator=True,chunksize = nchunk_data)\n",
    "\treturn data_file"
   ]
  },
  {
   "cell_type": "code",
   "execution_count": 4,
   "metadata": {
    "collapsed": true
   },
   "outputs": [],
   "source": [
    "def signal_handler(signal,frame):\n",
    "\tprint \"--\"\n",
    "\tprint \"--- kafka producer has been halted ---\"\n",
    "\tprint \"--\"\n",
    "\tsys.exit(0)"
   ]
  },
  {
   "cell_type": "code",
   "execution_count": 5,
   "metadata": {
    "collapsed": false
   },
   "outputs": [
    {
     "name": "stdout",
     "output_type": "stream",
     "text": [
      "ec2-34-193-153-112.compute-1.amazonaws.com:9092\n"
     ]
    }
   ],
   "source": [
    "# path to config file\n",
    "config_source = \"config/producer_config.yml\"\n",
    "\n",
    "# load configuration parameters\n",
    "config = yaml_loader(config_source)\n",
    "\n",
    "# initialize parameters\n",
    "topics = config['topics']\n",
    "time_buffer = config['time_buffer']\n",
    "data_source = config['data_file_name']\n",
    "data_columns = config['data_column_keys']\n",
    "port = config['port']\n",
    "print port"
   ]
  },
  {
   "cell_type": "markdown",
   "metadata": {},
   "source": [
    "MASTER NODE:\n",
    "    Hostname:   ip-172-31-1-41\n",
    "    Public DNS: ec2-34-198-103-9.compute-1.amazonaws.com\n",
    "\n",
    "WORKER NODE:\n",
    "    Hostname:   ip-172-31-1-40\n",
    "    Public DNS: ec2-34-198-102-254.compute-1.amazonaws.com\n",
    "\n",
    "WORKER NODE:\n",
    "    Hostname:   ip-172-31-1-39\n",
    "    Public DNS: ec2-34-198-22-65.compute-1.amazonaws.com\n",
    "\n",
    "WORKER NODE:\n",
    "    Hostname:   ip-172-31-1-46\n",
    "    Public DNS: ec2-34-198-102-159.compute-1.amazonaws.com"
   ]
  },
  {
   "cell_type": "code",
   "execution_count": 6,
   "metadata": {
    "collapsed": false
   },
   "outputs": [],
   "source": [
    "# path to data file\n",
    "path_to_data = os.path.abspath(os.path.join(os.getcwd(), '..',data_source))\n",
    "# load data from directory \n",
    "data_file = load_csv(path_to_data,data_columns)\n",
    "# create a producer object for the given ip\n",
    "producer = KafkaProducer(bootstrap_servers=[port])"
   ]
  },
  {
   "cell_type": "code",
   "execution_count": 7,
   "metadata": {
    "collapsed": false
   },
   "outputs": [
    {
     "name": "stdout",
     "output_type": "stream",
     "text": [
      "<kafka.producer.kafka.KafkaProducer object at 0x7fdc30516890>\n"
     ]
    }
   ],
   "source": [
    "print producer"
   ]
  },
  {
   "cell_type": "code",
   "execution_count": 8,
   "metadata": {
    "collapsed": false
   },
   "outputs": [
    {
     "name": "stdout",
     "output_type": "stream",
     "text": [
      "users\n",
      "{\"vendor_id\":null,\"pickup_datetime\":null,\"dropoff_datetime\":null,\"passenger_count\":null,\"trip_distance\":null,\"pickup_longitude\":null,\"pickup_latitude\":null,\"rate_code\":null,\"store_and_fwd_flag\":null,\"dropoff_longitude\":null,\"dropoff_latitude\":null,\"payment_type\":null,\"fare_amount\":null,\"surcharge\":null,\"mta_tax\":null,\"tip_amount\":null,\"tolls_amount\":null,\"total_amount\":null,\"timestamp\":\"2017-01-31 22:15:41.621\"}\n",
      "users\n",
      "{\"vendor_id\":\"VTS\",\"pickup_datetime\":\"2013-05-01 00:04:00\",\"dropoff_datetime\":\"2013-05-01 00:12:00\",\"passenger_count\":1,\"trip_distance\":1.34,\"pickup_longitude\":-73.982287,\"pickup_latitude\":40.772815000000001,\"rate_code\":1,\"store_and_fwd_flag\":null,\"dropoff_longitude\":-73.98621,\"dropoff_latitude\":40.758741999999998,\"payment_type\":\"CSH\",\"fare_amount\":7,\"surcharge\":0.5,\"mta_tax\":0.5,\"tip_amount\":0,\"tolls_amount\":0,\"total_amount\":8,\"timestamp\":\"2017-01-31 22:15:42.634\"}\n",
      "users\n",
      "{\"vendor_id\":\"VTS\",\"pickup_datetime\":\"2013-05-01 00:03:00\",\"dropoff_datetime\":\"2013-05-01 00:10:00\",\"passenger_count\":5,\"trip_distance\":2.6,\"pickup_longitude\":-73.963009999999983,\"pickup_latitude\":40.7119,\"rate_code\":1,\"store_and_fwd_flag\":null,\"dropoff_longitude\":-73.991874999999979,\"dropoff_latitude\":40.721916999999998,\"payment_type\":\"CRD\",\"fare_amount\":9.5,\"surcharge\":0.5,\"mta_tax\":0.5,\"tip_amount\":2,\"tolls_amount\":0,\"total_amount\":12.5,\"timestamp\":\"2017-01-31 22:15:43.640\"}\n",
      "cars\n",
      "{\"vendor_id\":\"VTS\",\"pickup_datetime\":\"2013-05-01 00:04:00\",\"dropoff_datetime\":\"2013-05-01 00:10:00\",\"passenger_count\":2,\"trip_distance\":1.31,\"pickup_longitude\":-73.98178,\"pickup_latitude\":40.724352000000003,\"rate_code\":1,\"store_and_fwd_flag\":null,\"dropoff_longitude\":-73.973754999999983,\"dropoff_latitude\":40.736891999999998,\"payment_type\":\"CRD\",\"fare_amount\":6.5,\"surcharge\":0.5,\"mta_tax\":0.5,\"tip_amount\":1,\"tolls_amount\":0,\"total_amount\":8.5,\"timestamp\":\"2017-01-31 22:15:44.646\"}\n",
      "cars\n",
      "{\"vendor_id\":\"VTS\",\"pickup_datetime\":\"2013-05-01 00:05:00\",\"dropoff_datetime\":\"2013-05-01 00:09:00\",\"passenger_count\":1,\"trip_distance\":0.82,\"pickup_longitude\":-73.964016999999998,\"pickup_latitude\":40.709691999999997,\"rate_code\":1,\"store_and_fwd_flag\":null,\"dropoff_longitude\":-73.950895000000003,\"dropoff_latitude\":40.710971999999998,\"payment_type\":\"CSH\",\"fare_amount\":5.5,\"surcharge\":0.5,\"mta_tax\":0.5,\"tip_amount\":0,\"tolls_amount\":0,\"total_amount\":6.5,\"timestamp\":\"2017-01-31 22:15:45.665\"}\n",
      "users\n",
      "{\"vendor_id\":\"VTS\",\"pickup_datetime\":\"2013-05-01 00:05:00\",\"dropoff_datetime\":\"2013-05-01 00:14:00\",\"passenger_count\":1,\"trip_distance\":1.65,\"pickup_longitude\":-73.973917,\"pickup_latitude\":40.752786999999998,\"rate_code\":1,\"store_and_fwd_flag\":null,\"dropoff_longitude\":-73.99620299999998,\"dropoff_latitude\":40.755867000000002,\"payment_type\":\"CRD\",\"fare_amount\":8.5,\"surcharge\":0.5,\"mta_tax\":0.5,\"tip_amount\":1.8,\"tolls_amount\":0,\"total_amount\":11.300000000000001,\"timestamp\":\"2017-01-31 22:15:46.671\"}\n",
      "users\n",
      "{\"vendor_id\":\"VTS\",\"pickup_datetime\":\"2013-05-01 00:00:00\",\"dropoff_datetime\":\"2013-05-01 00:12:00\",\"passenger_count\":5,\"trip_distance\":2.41,\"pickup_longitude\":-74.00235499999998,\"pickup_latitude\":40.750324999999997,\"rate_code\":1,\"store_and_fwd_flag\":null,\"dropoff_longitude\":-73.972881999999998,\"dropoff_latitude\":40.756096999999997,\"payment_type\":\"CRD\",\"fare_amount\":11,\"surcharge\":0.5,\"mta_tax\":0.5,\"tip_amount\":2.3,\"tolls_amount\":0,\"total_amount\":14.300000000000001,\"timestamp\":\"2017-01-31 22:15:47.676\"}\n",
      "cars\n",
      "{\"vendor_id\":\"VTS\",\"pickup_datetime\":\"2013-05-01 00:01:00\",\"dropoff_datetime\":\"2013-05-01 00:10:00\",\"passenger_count\":1,\"trip_distance\":2.44,\"pickup_longitude\":-73.950114999999982,\"pickup_latitude\":40.771766999999997,\"rate_code\":1,\"store_and_fwd_flag\":null,\"dropoff_longitude\":-73.977317999999983,\"dropoff_latitude\":40.759239999999998,\"payment_type\":\"CRD\",\"fare_amount\":10,\"surcharge\":0.5,\"mta_tax\":0.5,\"tip_amount\":1.5,\"tolls_amount\":0,\"total_amount\":12.5,\"timestamp\":\"2017-01-31 22:15:48.682\"}\n",
      "users\n",
      "{\"vendor_id\":\"VTS\",\"pickup_datetime\":\"2013-05-01 00:05:00\",\"dropoff_datetime\":\"2013-05-01 00:12:00\",\"passenger_count\":1,\"trip_distance\":2.42,\"pickup_longitude\":-74.00929499999998,\"pickup_latitude\":40.724732000000003,\"rate_code\":1,\"store_and_fwd_flag\":null,\"dropoff_longitude\":-73.998671999999999,\"dropoff_latitude\":40.754931999999997,\"payment_type\":\"CRD\",\"fare_amount\":9,\"surcharge\":0.5,\"mta_tax\":0.5,\"tip_amount\":1,\"tolls_amount\":0,\"total_amount\":11,\"timestamp\":\"2017-01-31 22:15:49.688\"}\n",
      "users\n",
      "{\"vendor_id\":\"VTS\",\"pickup_datetime\":\"2013-05-01 23:57:00\",\"dropoff_datetime\":\"2013-05-02 00:08:00\",\"passenger_count\":1,\"trip_distance\":2.98,\"pickup_longitude\":-74.003837000000004,\"pickup_latitude\":40.738477000000003,\"rate_code\":1,\"store_and_fwd_flag\":null,\"dropoff_longitude\":-73.976474999999979,\"dropoff_latitude\":40.775472000000001,\"payment_type\":\"CRD\",\"fare_amount\":11.5,\"surcharge\":0.5,\"mta_tax\":0.5,\"tip_amount\":2.4,\"tolls_amount\":0,\"total_amount\":14.9,\"timestamp\":\"2017-01-31 22:15:50.693\"}\n",
      "users\n",
      "{\"vendor_id\":\"VTS\",\"pickup_datetime\":\"2013-05-01 00:04:00\",\"dropoff_datetime\":\"2013-05-01 00:06:00\",\"passenger_count\":1,\"trip_distance\":0.76,\"pickup_longitude\":-73.979084999999998,\"pickup_latitude\":40.740397000000002,\"rate_code\":1,\"store_and_fwd_flag\":null,\"dropoff_longitude\":-73.983017000000004,\"dropoff_latitude\":40.731516999999997,\"payment_type\":\"CSH\",\"fare_amount\":4,\"surcharge\":0.5,\"mta_tax\":0.5,\"tip_amount\":0,\"tolls_amount\":0,\"total_amount\":5,\"timestamp\":\"2017-01-31 22:15:51.698\"}\n",
      "users\n",
      "{\"vendor_id\":\"VTS\",\"pickup_datetime\":\"2013-05-01 00:02:00\",\"dropoff_datetime\":\"2013-05-01 00:07:00\",\"passenger_count\":6,\"trip_distance\":1.06,\"pickup_longitude\":-73.985551999999998,\"pickup_latitude\":40.755752000000001,\"rate_code\":1,\"store_and_fwd_flag\":null,\"dropoff_longitude\":-73.984954999999999,\"dropoff_latitude\":40.760171999999997,\"payment_type\":\"CSH\",\"fare_amount\":6,\"surcharge\":0.5,\"mta_tax\":0.5,\"tip_amount\":0,\"tolls_amount\":0,\"total_amount\":7,\"timestamp\":\"2017-01-31 22:15:52.704\"}\n",
      "users\n",
      "{\"vendor_id\":\"VTS\",\"pickup_datetime\":\"2013-05-01 00:04:00\",\"dropoff_datetime\":\"2013-05-01 00:06:00\",\"passenger_count\":5,\"trip_distance\":0.93,\"pickup_longitude\":-73.981722000000005,\"pickup_latitude\":40.741010000000003,\"rate_code\":1,\"store_and_fwd_flag\":null,\"dropoff_longitude\":-73.976536999999979,\"dropoff_latitude\":40.751511999999998,\"payment_type\":\"CSH\",\"fare_amount\":4.5,\"surcharge\":0.5,\"mta_tax\":0.5,\"tip_amount\":0,\"tolls_amount\":0,\"total_amount\":5.5,\"timestamp\":\"2017-01-31 22:15:53.710\"}\n",
      "cars\n",
      "{\"vendor_id\":\"VTS\",\"pickup_datetime\":\"2013-05-01 00:02:00\",\"dropoff_datetime\":\"2013-05-01 00:09:00\",\"passenger_count\":3,\"trip_distance\":2.2,\"pickup_longitude\":-73.979641999999998,\"pickup_latitude\":40.771287000000001,\"rate_code\":1,\"store_and_fwd_flag\":null,\"dropoff_longitude\":-73.954187000000004,\"dropoff_latitude\":40.784452000000002,\"payment_type\":\"CSH\",\"fare_amount\":8.5,\"surcharge\":0.5,\"mta_tax\":0.5,\"tip_amount\":0,\"tolls_amount\":0,\"total_amount\":9.5,\"timestamp\":\"2017-01-31 22:15:54.716\"}\n",
      "cars\n",
      "{\"vendor_id\":\"VTS\",\"pickup_datetime\":\"2013-05-01 00:04:00\",\"dropoff_datetime\":\"2013-05-01 00:06:00\",\"passenger_count\":5,\"trip_distance\":0.47,\"pickup_longitude\":-73.956933000000006,\"pickup_latitude\":40.764012000000001,\"rate_code\":1,\"store_and_fwd_flag\":null,\"dropoff_longitude\":-73.963575000000006,\"dropoff_latitude\":40.766840000000002,\"payment_type\":\"CSH\",\"fare_amount\":4,\"surcharge\":0.5,\"mta_tax\":0.5,\"tip_amount\":0,\"tolls_amount\":0,\"total_amount\":5,\"timestamp\":\"2017-01-31 22:15:55.722\"}\n",
      "cars\n",
      "{\"vendor_id\":\"VTS\",\"pickup_datetime\":\"2013-05-01 00:01:00\",\"dropoff_datetime\":\"2013-05-01 00:06:00\",\"passenger_count\":3,\"trip_distance\":0.82,\"pickup_longitude\":-73.981471999999982,\"pickup_latitude\":40.76482,\"rate_code\":1,\"store_and_fwd_flag\":null,\"dropoff_longitude\":-73.975071999999983,\"dropoff_latitude\":40.757807,\"payment_type\":\"CSH\",\"fare_amount\":5.5,\"surcharge\":0.5,\"mta_tax\":0.5,\"tip_amount\":0,\"tolls_amount\":0,\"total_amount\":6.5,\"timestamp\":\"2017-01-31 22:15:56.727\"}\n",
      "cars\n",
      "{\"vendor_id\":\"VTS\",\"pickup_datetime\":\"2013-05-01 00:04:00\",\"dropoff_datetime\":\"2013-05-01 00:09:00\",\"passenger_count\":1,\"trip_distance\":1.46,\"pickup_longitude\":-74.006281999999999,\"pickup_latitude\":40.733255,\"rate_code\":1,\"store_and_fwd_flag\":null,\"dropoff_longitude\":-73.993063000000006,\"dropoff_latitude\":40.748761999999999,\"payment_type\":\"CRD\",\"fare_amount\":6.5,\"surcharge\":0.5,\"mta_tax\":0.5,\"tip_amount\":1.4,\"tolls_amount\":0,\"total_amount\":8.9,\"timestamp\":\"2017-01-31 22:15:57.733\"}\n",
      "users\n",
      "{\"vendor_id\":\"VTS\",\"pickup_datetime\":\"2013-05-01 00:02:00\",\"dropoff_datetime\":\"2013-05-01 00:13:00\",\"passenger_count\":1,\"trip_distance\":2.52,\"pickup_longitude\":-74.005431999999999,\"pickup_latitude\":40.740836999999999,\"rate_code\":1,\"store_and_fwd_flag\":null,\"dropoff_longitude\":-73.983168000000006,\"dropoff_latitude\":40.758026999999998,\"payment_type\":\"CRD\",\"fare_amount\":11,\"surcharge\":0.5,\"mta_tax\":0.5,\"tip_amount\":2.88,\"tolls_amount\":0,\"total_amount\":14.880000000000001,\"timestamp\":\"2017-01-31 22:15:58.740\"}\n",
      "users\n",
      "{\"vendor_id\":\"VTS\",\"pickup_datetime\":\"2013-05-01 00:05:00\",\"dropoff_datetime\":\"2013-05-01 00:13:00\",\"passenger_count\":1,\"trip_distance\":1.44,\"pickup_longitude\":-74.000150000000005,\"pickup_latitude\":40.730415000000001,\"rate_code\":1,\"store_and_fwd_flag\":null,\"dropoff_longitude\":-74.005799999999979,\"dropoff_latitude\":40.741239999999998,\"payment_type\":\"CSH\",\"fare_amount\":7.5,\"surcharge\":0.5,\"mta_tax\":0.5,\"tip_amount\":0,\"tolls_amount\":0,\"total_amount\":8.5,\"timestamp\":\"2017-01-31 22:15:59.745\"}\n",
      "cars\n",
      "{\"vendor_id\":\"VTS\",\"pickup_datetime\":\"2013-05-01 00:00:00\",\"dropoff_datetime\":\"2013-05-01 00:08:00\",\"passenger_count\":1,\"trip_distance\":1.63,\"pickup_longitude\":-73.985106999999999,\"pickup_latitude\":40.745601999999998,\"rate_code\":1,\"store_and_fwd_flag\":null,\"dropoff_longitude\":-73.967647,\"dropoff_latitude\":40.757612000000002,\"payment_type\":\"CSH\",\"fare_amount\":8,\"surcharge\":0.5,\"mta_tax\":0.5,\"tip_amount\":0,\"tolls_amount\":0,\"total_amount\":9,\"timestamp\":\"2017-01-31 22:16:00.751\"}\n",
      "cars\n",
      "{\"vendor_id\":\"VTS\",\"pickup_datetime\":\"2013-05-01 00:03:00\",\"dropoff_datetime\":\"2013-05-01 00:10:00\",\"passenger_count\":1,\"trip_distance\":1.39,\"pickup_longitude\":-74.003107,\"pickup_latitude\":40.734836999999999,\"rate_code\":1,\"store_and_fwd_flag\":null,\"dropoff_longitude\":-73.998130000000003,\"dropoff_latitude\":40.722566999999998,\"payment_type\":\"CRD\",\"fare_amount\":7.5,\"surcharge\":0.5,\"mta_tax\":0.5,\"tip_amount\":1.6,\"tolls_amount\":0,\"total_amount\":10.1,\"timestamp\":\"2017-01-31 22:16:01.757\"}\n",
      "cars\n",
      "{\"vendor_id\":\"VTS\",\"pickup_datetime\":\"2013-05-01 00:04:00\",\"dropoff_datetime\":\"2013-05-01 00:10:00\",\"passenger_count\":2,\"trip_distance\":2.1,\"pickup_longitude\":-73.979557,\"pickup_latitude\":40.754947000000001,\"rate_code\":1,\"store_and_fwd_flag\":null,\"dropoff_longitude\":-73.958027999999999,\"dropoff_latitude\":40.778967000000002,\"payment_type\":\"CSH\",\"fare_amount\":8,\"surcharge\":0.5,\"mta_tax\":0.5,\"tip_amount\":0,\"tolls_amount\":0,\"total_amount\":9,\"timestamp\":\"2017-01-31 22:16:02.763\"}\n",
      "users\n",
      "{\"vendor_id\":\"VTS\",\"pickup_datetime\":\"2013-05-01 00:00:00\",\"dropoff_datetime\":\"2013-05-01 00:10:00\",\"passenger_count\":2,\"trip_distance\":6.93,\"pickup_longitude\":-73.963785000000002,\"pickup_latitude\":40.761274999999998,\"rate_code\":1,\"store_and_fwd_flag\":null,\"dropoff_longitude\":-74.015217000000007,\"dropoff_latitude\":40.708404999999999,\"payment_type\":\"CRD\",\"fare_amount\":20,\"surcharge\":0.5,\"mta_tax\":0.5,\"tip_amount\":4.1,\"tolls_amount\":0,\"total_amount\":25.100000000000001,\"timestamp\":\"2017-01-31 22:16:03.769\"}\n",
      "cars\n",
      "{\"vendor_id\":\"VTS\",\"pickup_datetime\":\"2013-05-01 00:07:00\",\"dropoff_datetime\":\"2013-05-01 00:13:00\",\"passenger_count\":4,\"trip_distance\":1.4,\"pickup_longitude\":-73.991707000000005,\"pickup_latitude\":40.759692000000001,\"rate_code\":1,\"store_and_fwd_flag\":null,\"dropoff_longitude\":-73.97842,\"dropoff_latitude\":40.750996999999998,\"payment_type\":\"CSH\",\"fare_amount\":6.5,\"surcharge\":0.5,\"mta_tax\":0.5,\"tip_amount\":0,\"tolls_amount\":0,\"total_amount\":7.5,\"timestamp\":\"2017-01-31 22:16:04.775\"}\n",
      "cars\n",
      "{\"vendor_id\":\"VTS\",\"pickup_datetime\":\"2013-05-01 00:07:00\",\"dropoff_datetime\":\"2013-05-01 00:12:00\",\"passenger_count\":5,\"trip_distance\":1.2,\"pickup_longitude\":-73.976737,\"pickup_latitude\":40.780307,\"rate_code\":1,\"store_and_fwd_flag\":null,\"dropoff_longitude\":-73.980652000000006,\"dropoff_latitude\":40.766126999999997,\"payment_type\":\"CSH\",\"fare_amount\":6,\"surcharge\":0.5,\"mta_tax\":0.5,\"tip_amount\":0,\"tolls_amount\":0,\"total_amount\":7,\"timestamp\":\"2017-01-31 22:16:05.787\"}\n",
      "cars\n",
      "{\"vendor_id\":\"VTS\",\"pickup_datetime\":\"2013-05-01 00:04:00\",\"dropoff_datetime\":\"2013-05-01 00:12:00\",\"passenger_count\":5,\"trip_distance\":3.21,\"pickup_longitude\":-73.992187000000001,\"pickup_latitude\":40.749651999999998,\"rate_code\":1,\"store_and_fwd_flag\":null,\"dropoff_longitude\":-73.95760199999998,\"dropoff_latitude\":40.770097,\"payment_type\":\"CSH\",\"fare_amount\":11,\"surcharge\":0.5,\"mta_tax\":0.5,\"tip_amount\":0,\"tolls_amount\":0,\"total_amount\":12,\"timestamp\":\"2017-01-31 22:16:06.795\"}\n",
      "cars\n",
      "{\"vendor_id\":\"VTS\",\"pickup_datetime\":\"2013-05-01 00:18:00\",\"dropoff_datetime\":\"2013-05-01 00:25:00\",\"passenger_count\":3,\"trip_distance\":2.31,\"pickup_longitude\":-74.00452199999998,\"pickup_latitude\":40.722724999999997,\"rate_code\":1,\"store_and_fwd_flag\":null,\"dropoff_longitude\":-73.98880699999998,\"dropoff_latitude\":40.747387000000003,\"payment_type\":\"CRD\",\"fare_amount\":8.5,\"surcharge\":0.5,\"mta_tax\":0.5,\"tip_amount\":1,\"tolls_amount\":0,\"total_amount\":10.5,\"timestamp\":\"2017-01-31 22:16:07.801\"}\n",
      "cars\n",
      "{\"vendor_id\":\"VTS\",\"pickup_datetime\":\"2013-05-01 00:11:00\",\"dropoff_datetime\":\"2013-05-01 00:25:00\",\"passenger_count\":5,\"trip_distance\":3.79,\"pickup_longitude\":-73.988832000000002,\"pickup_latitude\":40.736522000000001,\"rate_code\":1,\"store_and_fwd_flag\":null,\"dropoff_longitude\":-73.962487999999979,\"dropoff_latitude\":40.712466999999997,\"payment_type\":\"CRD\",\"fare_amount\":14.5,\"surcharge\":0.5,\"mta_tax\":0.5,\"tip_amount\":3,\"tolls_amount\":0,\"total_amount\":18.5,\"timestamp\":\"2017-01-31 22:16:08.810\"}\n",
      "users\n",
      "{\"vendor_id\":\"VTS\",\"pickup_datetime\":\"2013-05-01 00:20:00\",\"dropoff_datetime\":\"2013-05-01 00:26:00\",\"passenger_count\":1,\"trip_distance\":2.61,\"pickup_longitude\":-73.980343000000005,\"pickup_latitude\":40.742821999999997,\"rate_code\":1,\"store_and_fwd_flag\":null,\"dropoff_longitude\":-73.958506999999983,\"dropoff_latitude\":40.771427000000003,\"payment_type\":\"CSH\",\"fare_amount\":9,\"surcharge\":0.5,\"mta_tax\":0.5,\"tip_amount\":0,\"tolls_amount\":0,\"total_amount\":10,\"timestamp\":\"2017-01-31 22:16:09.815\"}\n",
      "cars\n",
      "{\"vendor_id\":\"VTS\",\"pickup_datetime\":\"2013-05-01 00:20:00\",\"dropoff_datetime\":\"2013-05-01 00:26:00\",\"passenger_count\":1,\"trip_distance\":2.61,\"pickup_longitude\":-73.980343000000005,\"pickup_latitude\":40.742821999999997,\"rate_code\":1,\"store_and_fwd_flag\":null,\"dropoff_longitude\":-73.958506999999983,\"dropoff_latitude\":40.771427000000003,\"payment_type\":\"CSH\",\"fare_amount\":9,\"surcharge\":0.5,\"mta_tax\":0.5,\"tip_amount\":0,\"tolls_amount\":0,\"total_amount\":10,\"timestamp\":\"2017-01-31 22:16:10.821\"}\n",
      "users\n",
      "{\"vendor_id\":\"VTS\",\"pickup_datetime\":\"2013-05-01 00:20:00\",\"dropoff_datetime\":\"2013-05-01 00:26:00\",\"passenger_count\":1,\"trip_distance\":2.61,\"pickup_longitude\":-73.980343000000005,\"pickup_latitude\":40.742821999999997,\"rate_code\":1,\"store_and_fwd_flag\":null,\"dropoff_longitude\":-73.958506999999983,\"dropoff_latitude\":40.771427000000003,\"payment_type\":\"CSH\",\"fare_amount\":9,\"surcharge\":0.5,\"mta_tax\":0.5,\"tip_amount\":0,\"tolls_amount\":0,\"total_amount\":10,\"timestamp\":\"2017-01-31 22:16:11.832\"}\n",
      "cars\n",
      "{\"vendor_id\":\"VTS\",\"pickup_datetime\":\"2013-05-01 00:20:00\",\"dropoff_datetime\":\"2013-05-01 00:26:00\",\"passenger_count\":1,\"trip_distance\":2.61,\"pickup_longitude\":-73.980343000000005,\"pickup_latitude\":40.742821999999997,\"rate_code\":1,\"store_and_fwd_flag\":null,\"dropoff_longitude\":-73.958506999999983,\"dropoff_latitude\":40.771427000000003,\"payment_type\":\"CSH\",\"fare_amount\":9,\"surcharge\":0.5,\"mta_tax\":0.5,\"tip_amount\":0,\"tolls_amount\":0,\"total_amount\":10,\"timestamp\":\"2017-01-31 22:16:12.841\"}\n"
     ]
    },
    {
     "ename": "MemoryError",
     "evalue": "",
     "output_type": "error",
     "traceback": [
      "\u001b[1;31m---------------------------------------------------------------------------\u001b[0m",
      "\u001b[1;31mMemoryError\u001b[0m                               Traceback (most recent call last)",
      "\u001b[1;32m<ipython-input-8-f4d64a06b919>\u001b[0m in \u001b[0;36m<module>\u001b[1;34m()\u001b[0m\n\u001b[0;32m      2\u001b[0m \u001b[1;32mwhile\u001b[0m \u001b[0mTrue\u001b[0m\u001b[1;33m:\u001b[0m\u001b[1;33m\u001b[0m\u001b[0m\n\u001b[0;32m      3\u001b[0m     \u001b[1;31m# iterate through DataFrame every second\u001b[0m\u001b[1;33m\u001b[0m\u001b[1;33m\u001b[0m\u001b[0m\n\u001b[1;32m----> 4\u001b[1;33m     \u001b[1;32mfor\u001b[0m \u001b[0mchunk\u001b[0m \u001b[1;32min\u001b[0m \u001b[0mdata_file\u001b[0m\u001b[1;33m:\u001b[0m\u001b[1;33m\u001b[0m\u001b[0m\n\u001b[0m\u001b[0;32m      5\u001b[0m \u001b[1;33m\u001b[0m\u001b[0m\n\u001b[0;32m      6\u001b[0m         \u001b[1;31m# check for stopping input\u001b[0m\u001b[1;33m\u001b[0m\u001b[1;33m\u001b[0m\u001b[0m\n",
      "\u001b[1;32m/usr/lib/python2.7/dist-packages/pandas/io/parsers.pyc\u001b[0m in \u001b[0;36m__iter__\u001b[1;34m(self)\u001b[0m\n\u001b[0;32m    600\u001b[0m             \u001b[1;32mif\u001b[0m \u001b[0mself\u001b[0m\u001b[1;33m.\u001b[0m\u001b[0mchunksize\u001b[0m\u001b[1;33m:\u001b[0m\u001b[1;33m\u001b[0m\u001b[0m\n\u001b[0;32m    601\u001b[0m                 \u001b[1;32mwhile\u001b[0m \u001b[0mTrue\u001b[0m\u001b[1;33m:\u001b[0m\u001b[1;33m\u001b[0m\u001b[0m\n\u001b[1;32m--> 602\u001b[1;33m                     \u001b[1;32myield\u001b[0m \u001b[0mself\u001b[0m\u001b[1;33m.\u001b[0m\u001b[0mread\u001b[0m\u001b[1;33m(\u001b[0m\u001b[0mself\u001b[0m\u001b[1;33m.\u001b[0m\u001b[0mchunksize\u001b[0m\u001b[1;33m)\u001b[0m\u001b[1;33m\u001b[0m\u001b[0m\n\u001b[0m\u001b[0;32m    603\u001b[0m             \u001b[1;32melse\u001b[0m\u001b[1;33m:\u001b[0m\u001b[1;33m\u001b[0m\u001b[0m\n\u001b[0;32m    604\u001b[0m                 \u001b[1;32myield\u001b[0m \u001b[0mself\u001b[0m\u001b[1;33m.\u001b[0m\u001b[0mread\u001b[0m\u001b[1;33m(\u001b[0m\u001b[1;33m)\u001b[0m\u001b[1;33m\u001b[0m\u001b[0m\n",
      "\u001b[1;32m/usr/lib/python2.7/dist-packages/pandas/io/parsers.pyc\u001b[0m in \u001b[0;36mread\u001b[1;34m(self, nrows)\u001b[0m\n\u001b[0;32m    624\u001b[0m                 \u001b[1;32mraise\u001b[0m \u001b[0mValueError\u001b[0m\u001b[1;33m(\u001b[0m\u001b[1;34m'skip_footer not supported for iteration'\u001b[0m\u001b[1;33m)\u001b[0m\u001b[1;33m\u001b[0m\u001b[0m\n\u001b[0;32m    625\u001b[0m \u001b[1;33m\u001b[0m\u001b[0m\n\u001b[1;32m--> 626\u001b[1;33m         \u001b[0mret\u001b[0m \u001b[1;33m=\u001b[0m \u001b[0mself\u001b[0m\u001b[1;33m.\u001b[0m\u001b[0m_engine\u001b[0m\u001b[1;33m.\u001b[0m\u001b[0mread\u001b[0m\u001b[1;33m(\u001b[0m\u001b[0mnrows\u001b[0m\u001b[1;33m)\u001b[0m\u001b[1;33m\u001b[0m\u001b[0m\n\u001b[0m\u001b[0;32m    627\u001b[0m \u001b[1;33m\u001b[0m\u001b[0m\n\u001b[0;32m    628\u001b[0m         \u001b[1;32mif\u001b[0m \u001b[0mself\u001b[0m\u001b[1;33m.\u001b[0m\u001b[0moptions\u001b[0m\u001b[1;33m.\u001b[0m\u001b[0mget\u001b[0m\u001b[1;33m(\u001b[0m\u001b[1;34m'as_recarray'\u001b[0m\u001b[1;33m)\u001b[0m\u001b[1;33m:\u001b[0m\u001b[1;33m\u001b[0m\u001b[0m\n",
      "\u001b[1;32m/usr/lib/python2.7/dist-packages/pandas/io/parsers.pyc\u001b[0m in \u001b[0;36mread\u001b[1;34m(self, nrows)\u001b[0m\n\u001b[0;32m   1068\u001b[0m \u001b[1;33m\u001b[0m\u001b[0m\n\u001b[0;32m   1069\u001b[0m         \u001b[1;32mtry\u001b[0m\u001b[1;33m:\u001b[0m\u001b[1;33m\u001b[0m\u001b[0m\n\u001b[1;32m-> 1070\u001b[1;33m             \u001b[0mdata\u001b[0m \u001b[1;33m=\u001b[0m \u001b[0mself\u001b[0m\u001b[1;33m.\u001b[0m\u001b[0m_reader\u001b[0m\u001b[1;33m.\u001b[0m\u001b[0mread\u001b[0m\u001b[1;33m(\u001b[0m\u001b[0mnrows\u001b[0m\u001b[1;33m)\u001b[0m\u001b[1;33m\u001b[0m\u001b[0m\n\u001b[0m\u001b[0;32m   1071\u001b[0m         \u001b[1;32mexcept\u001b[0m \u001b[0mStopIteration\u001b[0m\u001b[1;33m:\u001b[0m\u001b[1;33m\u001b[0m\u001b[0m\n\u001b[0;32m   1072\u001b[0m             \u001b[1;32mif\u001b[0m \u001b[0mnrows\u001b[0m \u001b[1;32mis\u001b[0m \u001b[0mNone\u001b[0m\u001b[1;33m:\u001b[0m\u001b[1;33m\u001b[0m\u001b[0m\n",
      "\u001b[1;32mparser.pyx\u001b[0m in \u001b[0;36mpandas.parser.TextReader.read (pandas/parser.c:7110)\u001b[1;34m()\u001b[0m\n",
      "\u001b[1;32mparser.pyx\u001b[0m in \u001b[0;36mpandas.parser.TextReader._read_low_memory (pandas/parser.c:7511)\u001b[1;34m()\u001b[0m\n",
      "\u001b[1;32mparser.pyx\u001b[0m in \u001b[0;36mpandas.parser.TextReader._read_rows (pandas/parser.c:7892)\u001b[1;34m()\u001b[0m\n",
      "\u001b[1;32mparser.pyx\u001b[0m in \u001b[0;36mpandas.parser.TextReader._start_clock (pandas/parser.c:8414)\u001b[1;34m()\u001b[0m\n",
      "\u001b[1;31mMemoryError\u001b[0m: "
     ]
    }
   ],
   "source": [
    "# run unless interrupted\n",
    "while True:\n",
    "    # iterate through DataFrame every second\n",
    "    for chunk in data_file:\n",
    "\n",
    "        # check for stopping input\n",
    "        signal.signal(signal.SIGINT , signal_handler)\n",
    "\n",
    "        # append current time to Pandas DataFrame\n",
    "        current_time = datetime.now().strftime(\"%Y-%m-%d %H:%M:%S.%f\")[:-3]\n",
    "        # current_time = datetime.now().strftime(\"%H:%M:%S.%f\")[:-3]\n",
    "        time_dataframe  = pd.DataFrame({'timestamp':[current_time]})\n",
    "\n",
    "        # select a random topic\n",
    "        rand = random.randint(0,len(topics)-1) \n",
    "        print topics[rand]\n",
    "\n",
    "        # convert DataFrame to json string \n",
    "        message = (chunk.join(time_dataframe)).to_json(double_precision=15,orient='records')\n",
    "\n",
    "        print message.strip('[]').splitlines()[0]\n",
    "        # send messages\n",
    "        producer.send(topics[rand], value = message.strip('[]').splitlines()[0])\n",
    "        #print topics[rand]\n",
    "\n",
    "        # block until all async messages are sent\n",
    "        producer.flush()\n",
    "\n",
    "        # buffer time \n",
    "        time.sleep(time_buffer)"
   ]
  },
  {
   "cell_type": "code",
   "execution_count": null,
   "metadata": {
    "collapsed": true
   },
   "outputs": [],
   "source": [
    "print 1+1"
   ]
  },
  {
   "cell_type": "code",
   "execution_count": null,
   "metadata": {
    "collapsed": true
   },
   "outputs": [],
   "source": []
  },
  {
   "cell_type": "code",
   "execution_count": null,
   "metadata": {
    "collapsed": true
   },
   "outputs": [],
   "source": []
  }
 ],
 "metadata": {
  "kernelspec": {
   "display_name": "Python 2",
   "language": "python",
   "name": "python2"
  },
  "language_info": {
   "codemirror_mode": {
    "name": "ipython",
    "version": 2
   },
   "file_extension": ".py",
   "mimetype": "text/x-python",
   "name": "python",
   "nbconvert_exporter": "python",
   "pygments_lexer": "ipython2",
   "version": "2.7.6"
  }
 },
 "nbformat": 4,
 "nbformat_minor": 0
}
