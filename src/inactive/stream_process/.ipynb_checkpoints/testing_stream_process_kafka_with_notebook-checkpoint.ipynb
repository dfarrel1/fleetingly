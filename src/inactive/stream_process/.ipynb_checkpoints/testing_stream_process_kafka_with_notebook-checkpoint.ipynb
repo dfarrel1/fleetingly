{
 "cells": [
  {
   "cell_type": "markdown",
   "metadata": {},
   "source": [
    "### Test Producer/Consumer on Streaming\n",
    "\n",
    "`*`Doing this before testing ./src/producer/kafka_producer.py"
   ]
  },
  {
   "cell_type": "code",
   "execution_count": null,
   "metadata": {
    "collapsed": true
   },
   "outputs": [],
   "source": [
    "from kafka import KafkaProducer\n",
    "import yaml"
   ]
  },
  {
   "cell_type": "code",
   "execution_count": 2,
   "metadata": {
    "collapsed": true
   },
   "outputs": [],
   "source": [
    "def yaml_loader(yaml_file):\n",
    "\twith open(yaml_file) as yml:\n",
    "\t\tconfig = yaml.load(yml)\n",
    "\treturn config"
   ]
  },
  {
   "cell_type": "code",
   "execution_count": 3,
   "metadata": {
    "collapsed": false
   },
   "outputs": [
    {
     "name": "stdout",
     "output_type": "stream",
     "text": [
      "/home/ubuntu/insight-taxi-pulse/src/stream_process\n"
     ]
    }
   ],
   "source": [
    "import os\n",
    "cwd = os.getcwd()\n",
    "print cwd"
   ]
  },
  {
   "cell_type": "code",
   "execution_count": 23,
   "metadata": {
    "collapsed": true
   },
   "outputs": [],
   "source": [
    "class KafkaMessageSender(object):\n",
    "\t\n",
    "\tdef __init__(self,config_source):\n",
    "\n",
    "\t\tself.config_source = config_source\n",
    "\t\t# config_source = \"config/producer_config.yml\"\n",
    "\n",
    "\t\t# load configuration parameters\n",
    "\t\tconfig = yaml_loader(self.config_source)\n",
    "\n",
    "\t\t# initialize parameters\n",
    "\t\tself.topics = config['topics']\n",
    "\t\tself.port = config['port']\n",
    "\n",
    "\t\tself.current_topic = self.topics[0]\n",
    "\n",
    "\t\tself.producer = KafkaProducer(bootstrap_servers=[self.port])"
   ]
  },
  {
   "cell_type": "markdown",
   "metadata": {},
   "source": [
    "From test_kafka.py"
   ]
  },
  {
   "cell_type": "code",
   "execution_count": 24,
   "metadata": {
    "collapsed": true
   },
   "outputs": [],
   "source": [
    "from kafka import KafkaConsumer\n",
    "import sys\n",
    "import signal\n",
    "import yaml\n",
    "import json"
   ]
  },
  {
   "cell_type": "code",
   "execution_count": 25,
   "metadata": {
    "collapsed": true
   },
   "outputs": [],
   "source": [
    "def yaml_loader(yaml_file):\n",
    "\t# os.path.dirname(os.path.realpath(__file__))\n",
    "\twith open(yaml_file) as yml:\n",
    "\t\tconfig = yaml.load(yml)\n",
    "\treturn config"
   ]
  },
  {
   "cell_type": "code",
   "execution_count": 26,
   "metadata": {
    "collapsed": true
   },
   "outputs": [],
   "source": [
    "def signal_handler(signal,frame):\n",
    "\tprint \"--\"\n",
    "\tprint \"--- elasticsearch consumer has been halted ---\"\n",
    "\tprint \"--\"\n",
    "\tsys.exit(0)"
   ]
  },
  {
   "cell_type": "code",
   "execution_count": 9,
   "metadata": {
    "collapsed": true
   },
   "outputs": [],
   "source": [
    "def _tostring(data, ignore_dicts = False):\n",
    "    # if this is a unicode string, return its string representation\n",
    "    if isinstance(data, unicode):\n",
    "        return data.encode('utf-8')\n",
    "    # if this is a list of values, return list of byteified values\n",
    "    if isinstance(data, list):\n",
    "        return [ _tostring(item, ignore_dicts=True) for item in data ]\n",
    "    # if this is a dictionary, return dictionary of byteified keys and values\n",
    "    # but only if we haven't already byteified it\n",
    "    if isinstance(data, dict) and not ignore_dicts:\n",
    "        return {_tostring(key, ignore_dicts=True): _tostring(value, ignore_dicts=True) for key, value in data.iteritems()}\n",
    "    # if it's anything else, return it in its original form\n",
    "    return data"
   ]
  },
  {
   "cell_type": "code",
   "execution_count": 34,
   "metadata": {
    "collapsed": false
   },
   "outputs": [],
   "source": [
    "def consume_messages(topics,port='ec2-34-198-103-9.compute-1.amazonaws.com:9092'):\n",
    "    print port\n",
    "    consumer = KafkaConsumer(bootstrap_servers=[port])\n",
    "    consumer.subscribe(topics)\n",
    "    print consumer.subscription()\n",
    "\n",
    "    for message in consumer:\n",
    "        # check for stopping input\n",
    "        signal.signal(signal.SIGINT , signal_handler)\n",
    "        print message.value\n",
    "        try:\n",
    "            incoming_message = json.loads(message.value,object_hook=_tostring)\n",
    "        except ValueError, e:\n",
    "            incoming_message = message.value\n",
    "            incoming_topic = 'default_topic'\n",
    "        \n",
    "        incoming_topic = message.topic\n",
    "        print incoming_topic\n",
    "        print incoming_message"
   ]
  },
  {
   "cell_type": "code",
   "execution_count": 29,
   "metadata": {
    "collapsed": false
   },
   "outputs": [
    {
     "name": "stdout",
     "output_type": "stream",
     "text": [
      "subscribing to the following topics: ['stream_cars', 'stream_users', 'stream_basic']\n"
     ]
    }
   ],
   "source": [
    "# load configuration parameters\n",
    "config_path = 'config/consumer_config.yml'\n",
    "config = yaml_loader(config_path)\n",
    "\n",
    "# initialize parameters\n",
    "port = config['port']\n",
    "topics = config[\"topics\"]\n",
    "\n",
    "print \"subscribing to the following topics: \"+str(topics)"
   ]
  },
  {
   "cell_type": "code",
   "execution_count": 30,
   "metadata": {
    "collapsed": false
   },
   "outputs": [
    {
     "name": "stdout",
     "output_type": "stream",
     "text": [
      "ec2-34-198-103-9.compute-1.amazonaws.com:9092\n"
     ]
    }
   ],
   "source": [
    "print port\n"
   ]
  },
  {
   "cell_type": "code",
   "execution_count": 31,
   "metadata": {
    "collapsed": false
   },
   "outputs": [
    {
     "name": "stdout",
     "output_type": "stream",
     "text": [
      "<kafka.producer.kafka.KafkaProducer object at 0x7f236ca30950>\n"
     ]
    }
   ],
   "source": [
    "producer = KafkaProducer(bootstrap_servers=['localhost:9092'])\n",
    "print producer\n"
   ]
  },
  {
   "cell_type": "code",
   "execution_count": 32,
   "metadata": {
    "collapsed": false
   },
   "outputs": [
    {
     "name": "stdout",
     "output_type": "stream",
     "text": [
      "<kafka.consumer.group.KafkaConsumer object at 0x7f236ccb7f90>\n"
     ]
    }
   ],
   "source": [
    "consumer = KafkaConsumer(bootstrap_servers=['localhost:9092'])\n",
    "print consumer\n",
    "#consumer = KafkaConsumer(bootstrap_servers=[port])\n",
    "#consumer.subscribe(topics)\n",
    "#print consumer.subscription()"
   ]
  },
  {
   "cell_type": "markdown",
   "metadata": {},
   "source": [
    "## the following will sequester the kernel\n",
    "...making it impossible to run other processes, so either run it as a last step or create a new ssh tunnel and jupyter notebook service for it."
   ]
  },
  {
   "cell_type": "code",
   "execution_count": null,
   "metadata": {
    "collapsed": false
   },
   "outputs": [
    {
     "name": "stdout",
     "output_type": "stream",
     "text": [
      "ec2-34-198-103-9.compute-1.amazonaws.com:9092\n",
      "set(['stream_cars', 'stream_basic', 'stream_users'])\n"
     ]
    }
   ],
   "source": [
    "# consume messages from Kafka\n",
    "consume_messages(topics,port)"
   ]
  },
  {
   "cell_type": "markdown",
   "metadata": {
    "collapsed": true
   },
   "source": [
    "### If Errors:\n",
    "\n",
    "1. shut down kafka and start back up (wait about 10 minutes)\n",
    "2. Try again.\n",
    "3. Not sure if it matters, but try creating a producer before creating a consumer.\n",
    "4. 'localhost' and the static ip of the machine seem to be equivalent, as they should be when running from that machine.\n",
    "\n",
    "### If NO Errors\n",
    "`*`Move on to test ./src/producer/kafka_producer.py"
   ]
  },
  {
   "cell_type": "code",
   "execution_count": null,
   "metadata": {
    "collapsed": true
   },
   "outputs": [],
   "source": []
  }
 ],
 "metadata": {
  "kernelspec": {
   "display_name": "Python 2",
   "language": "python",
   "name": "python2"
  },
  "language_info": {
   "codemirror_mode": {
    "name": "ipython",
    "version": 2
   },
   "file_extension": ".py",
   "mimetype": "text/x-python",
   "name": "python",
   "nbconvert_exporter": "python",
   "pygments_lexer": "ipython2",
   "version": "2.7.6"
  }
 },
 "nbformat": 4,
 "nbformat_minor": 0
}
