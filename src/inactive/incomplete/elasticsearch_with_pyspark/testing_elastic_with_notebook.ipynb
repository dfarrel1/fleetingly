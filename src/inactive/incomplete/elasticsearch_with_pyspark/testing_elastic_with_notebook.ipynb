{
 "cells": [
  {
   "cell_type": "markdown",
   "metadata": {},
   "source": [
    "# Python Notebook (incremental) Tests of Elastic Search\n",
    "\n",
    "### This is for testing that elasticsearch is working on the cluster.\n",
    "\n",
    "1. get bearings and inventory\n",
    "2. test that elastic search is callable\n",
    "3. test that an example database can be created and queried\n",
    "4. generate a database from my own data pipeline (from streaming data)\n",
    "5. query that database\n",
    "6. generate a database from my own data pipeline (from batch data)\n",
    "7. query that database"
   ]
  },
  {
   "cell_type": "code",
   "execution_count": 23,
   "metadata": {
    "collapsed": true
   },
   "outputs": [],
   "source": [
    "from elasticsearch import Elasticsearch\n",
    "import json\n",
    "import yaml"
   ]
  },
  {
   "cell_type": "markdown",
   "metadata": {},
   "source": [
    "**First, make sure that we are in the right place.**"
   ]
  },
  {
   "cell_type": "code",
   "execution_count": 24,
   "metadata": {
    "collapsed": false
   },
   "outputs": [
    {
     "name": "stdout",
     "output_type": "stream",
     "text": [
      "/home/ubuntu/insight-taxi-pulse/src/test\n"
     ]
    }
   ],
   "source": [
    "import os\n",
    "cwd = os.getcwd()\n",
    "print cwd"
   ]
  },
  {
   "cell_type": "code",
   "execution_count": 25,
   "metadata": {
    "collapsed": false
   },
   "outputs": [
    {
     "name": "stdout",
     "output_type": "stream",
     "text": [
      ".ipynb_checkpoints\n",
      "testing_elastic_with_notebook.ipynb\n",
      "metastore_db\n",
      "elasticsearch_query.py\n",
      "config\n",
      "derby.log\n"
     ]
    }
   ],
   "source": [
    "ls = os.listdir(cwd)\n",
    "for f in ls:\n",
    "    print f"
   ]
  },
  {
   "cell_type": "markdown",
   "metadata": {},
   "source": [
    "**Now try some elastic stuff.**"
   ]
  },
  {
   "cell_type": "code",
   "execution_count": 26,
   "metadata": {
    "collapsed": true
   },
   "outputs": [],
   "source": [
    "def yaml_loader(yaml_file):\n",
    "\twith open(yaml_file) as yml:\n",
    "\t\tconfig = yaml.load(yml)\n",
    "\treturn config"
   ]
  },
  {
   "cell_type": "code",
   "execution_count": 27,
   "metadata": {
    "collapsed": false
   },
   "outputs": [
    {
     "name": "stdout",
     "output_type": "stream",
     "text": [
      "topics\n",
      "['stream_users', 'stream_cars', 'stream_basic']\n",
      "namenodeip\n",
      "34.198.103.9\n",
      "port\n",
      "ec2-34-198-103-9.compute-1.amazonaws.com:9092\n"
     ]
    }
   ],
   "source": [
    "config_path = 'config/stream_consumer_config.yml'\n",
    "config = yaml_loader(config_path)\n",
    "for c in config:\n",
    "    print c\n",
    "    print config[c]"
   ]
  },
  {
   "cell_type": "code",
   "execution_count": 28,
   "metadata": {
    "collapsed": false
   },
   "outputs": [
    {
     "name": "stdout",
     "output_type": "stream",
     "text": [
      "<Elasticsearch([{'host': '34.198.103.9', 'port': 9200}])>\n"
     ]
    }
   ],
   "source": [
    "es = Elasticsearch(hosts=[{'host':'34.198.103.9', 'port':9200}],http_auth=('elastic','changeme'))\n",
    "print es\n"
   ]
  },
  {
   "cell_type": "code",
   "execution_count": 29,
   "metadata": {
    "collapsed": false
   },
   "outputs": [],
   "source": [
    "es = Elasticsearch(http_auth=('elastic','changeme'))\n",
    "if not es.ping():\n",
    "    raise ValueError(\"Connection failed\")"
   ]
  },
  {
   "cell_type": "markdown",
   "metadata": {},
   "source": [
    "**try running example**  \n",
    "(https://elasticsearch-py.readthedocs.io/en/master/)"
   ]
  },
  {
   "cell_type": "code",
   "execution_count": 30,
   "metadata": {
    "collapsed": false
   },
   "outputs": [
    {
     "name": "stdout",
     "output_type": "stream",
     "text": [
      "False\n",
      "{u'text': u'Elasticsearch: cool. bonsai cool.', u'author': u'kimchy', u'timestamp': u'2017-01-29T21:00:38.972321'}\n",
      "Got 1 Hits:\n",
      "2017-01-29T21:00:38.972321 kimchy: Elasticsearch: cool. bonsai cool.\n"
     ]
    }
   ],
   "source": [
    "from datetime import datetime\n",
    "es = Elasticsearch(http_auth=('elastic','changeme'))\n",
    "\n",
    "doc = {\n",
    "    'author': 'kimchy',\n",
    "    'text': 'Elasticsearch: cool. bonsai cool.',\n",
    "    'timestamp': datetime.now(),\n",
    "}\n",
    "res = es.index(index=\"test-index\", doc_type='tweet', id=1, body=doc)\n",
    "print(res['created'])\n",
    "\n",
    "res = es.get(index=\"test-index\", doc_type='tweet', id=1)\n",
    "print(res['_source'])\n",
    "\n",
    "es.indices.refresh(index=\"test-index\")\n",
    "\n",
    "res = es.search(index=\"test-index\", body={\"query\": {\"match_all\": {}}})\n",
    "print(\"Got %d Hits:\" % res['hits']['total'])\n",
    "for hit in res['hits']['hits']:\n",
    "    print(\"%(timestamp)s %(author)s: %(text)s\" % hit[\"_source\"])"
   ]
  },
  {
   "cell_type": "markdown",
   "metadata": {},
   "source": [
    "** try running elastic search on my own stuff **  \n",
    "NEED TO RUN DATABASE SCRIPTS FIRST  \n",
    "\n",
    "*./src/database/elasticsearch_batch.py:\t\tes.index(index=incoming_topic, doc_type=incoming_topic[:-1], id=str(count), body =new_entry)*\n",
    "\n",
    "*./src/database/elasticsearch_stream.py:\t\tes.index(index=incoming_topic, doc_type=incoming_topic[:-1], id=str(count), body =new_entry)*"
   ]
  },
  {
   "cell_type": "code",
   "execution_count": 31,
   "metadata": {
    "collapsed": false
   },
   "outputs": [],
   "source": [
    "## This doesn't work yet because I need to create it\n",
    "## es.indices.refresh(index=\"cars\")"
   ]
  },
  {
   "cell_type": "markdown",
   "metadata": {},
   "source": [
    "### Run Streaming Pipeline.\n",
    "\n",
    "1. spin up cluser and startup services\n",
    "2. run producer\n",
    "3. run spark-streaming consumer\n",
    "4. generate a database from my own data pipeline (from streaming data)\n",
    "5. query that database (code shown above)\n"
   ]
  },
  {
   "cell_type": "markdown",
   "metadata": {},
   "source": [
    "*... running producer testing notebook from producer directory (./src/producer/<'notebook'>)*"
   ]
  },
  {
   "cell_type": "code",
   "execution_count": 32,
   "metadata": {
    "collapsed": false
   },
   "outputs": [
    {
     "name": "stdout",
     "output_type": "stream",
     "text": [
      "test-index\n",
      ".monitoring-data-2\n",
      "twitter\n",
      ".monitoring-kibana-2-2017.01.28\n",
      ".monitoring-es-2-2017.01.29\n",
      ".monitoring-es-2-2017.01.28\n",
      ".kibana\n",
      ".monitoring-es-2-2017.01.27\n"
     ]
    }
   ],
   "source": [
    "for index in es.indices.get('*'):\n",
    "  print index"
   ]
  },
  {
   "cell_type": "code",
   "execution_count": null,
   "metadata": {
    "collapsed": true
   },
   "outputs": [],
   "source": []
  }
 ],
 "metadata": {
  "kernelspec": {
   "display_name": "Python 2",
   "language": "python",
   "name": "python2"
  },
  "language_info": {
   "codemirror_mode": {
    "name": "ipython",
    "version": 2
   },
   "file_extension": ".py",
   "mimetype": "text/x-python",
   "name": "python",
   "nbconvert_exporter": "python",
   "pygments_lexer": "ipython2",
   "version": "2.7.6"
  }
 },
 "nbformat": 4,
 "nbformat_minor": 0
}
