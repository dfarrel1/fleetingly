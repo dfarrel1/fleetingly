{
 "cells": [
  {
   "cell_type": "code",
   "execution_count": 1,
   "metadata": {
    "collapsed": false
   },
   "outputs": [
    {
     "name": "stdout",
     "output_type": "stream",
     "text": [
      "/home/ubuntu/insight-taxi-pulse/src/elasticsearch\n"
     ]
    }
   ],
   "source": [
    "import os\n",
    "cwd = os.getcwd()\n",
    "print cwd"
   ]
  },
  {
   "cell_type": "code",
   "execution_count": 2,
   "metadata": {
    "collapsed": true
   },
   "outputs": [],
   "source": [
    "# print(__doc__)\n",
    "from kafka import KafkaConsumer\n",
    "import json\n",
    "from elasticsearch import Elasticsearch\n",
    "import sys\n",
    "import yaml\n",
    "import signal\n",
    "from datetime import datetime\n",
    "import geohash"
   ]
  },
  {
   "cell_type": "code",
   "execution_count": 3,
   "metadata": {
    "collapsed": true
   },
   "outputs": [],
   "source": [
    "def yaml_loader(yaml_file):\n",
    "\twith open(yaml_file) as yml:\n",
    "\t\tconfig = yaml.load(yml)\n",
    "\treturn config"
   ]
  },
  {
   "cell_type": "code",
   "execution_count": 4,
   "metadata": {
    "collapsed": true
   },
   "outputs": [],
   "source": [
    "def json_loader(json_file):\n",
    "\twith open(json_file) as jsn:\n",
    "\t\tconfig = json.load(jsn,object_hook=_tostring)\n",
    "\treturn config"
   ]
  },
  {
   "cell_type": "code",
   "execution_count": 5,
   "metadata": {
    "collapsed": true
   },
   "outputs": [],
   "source": [
    "def signal_handler(signal,frame):\n",
    "\tprint \"--\"\n",
    "\tprint \"--- elasticsearch consumer has been halted ---\"\n",
    "\tprint \"--\"\n",
    "\tsys.exit(0)"
   ]
  },
  {
   "cell_type": "code",
   "execution_count": 6,
   "metadata": {
    "collapsed": true
   },
   "outputs": [],
   "source": [
    "def _tostring(data, ignore_dicts = False):\n",
    "    # if this is a unicode string, return its string representation\n",
    "    if isinstance(data, unicode):\n",
    "        return data.encode('utf-8')\n",
    "    # if this is a list of values, return list of byteified values\n",
    "    if isinstance(data, list):\n",
    "        return [ _tostring(item, ignore_dicts=True) for item in data ]\n",
    "    # if this is a dictionary, return dictionary of byteified keys and values\n",
    "    # but only if we haven't already byteified it\n",
    "    if isinstance(data, dict) and not ignore_dicts:\n",
    "        return {_tostring(key, ignore_dicts=True): _tostring(value, ignore_dicts=True) for key, value in data.iteritems()}\n",
    "    # if it's anything else, return it in its original form\n",
    "    return data"
   ]
  },
  {
   "cell_type": "code",
   "execution_count": 7,
   "metadata": {
    "collapsed": false
   },
   "outputs": [
    {
     "name": "stdout",
     "output_type": "stream",
     "text": [
      "4.91142272949e-05\n"
     ]
    }
   ],
   "source": [
    "    import time\n",
    "    t = time.time()\n",
    "    elapsed = time.time() - t\n",
    "    print elapsed"
   ]
  },
  {
   "cell_type": "code",
   "execution_count": 22,
   "metadata": {
    "collapsed": true
   },
   "outputs": [],
   "source": [
    "\n",
    "def consume_messages_new(topics):\n",
    "\n",
    "    consumer = KafkaConsumer(bootstrap_servers=[port],\n",
    "                             consumer_timeout_ms=5000 ,\n",
    "                             value_deserializer=lambda m: json.loads(m.decode('ascii')) \n",
    "                             )\n",
    "  \n",
    "    consumer.subscribe(topics)\n",
    "    count = 0\n",
    "    print port\n",
    "\n",
    "    for message in consumer:\n",
    "        # check for stopping input\n",
    "        signal.signal(signal.SIGINT , signal_handler)\n",
    "        incoming_topic = message.topic\n",
    "        incoming_message = message.value\n",
    "        count = count + 1\n",
    "        print \"--------------\"\n",
    "        print incoming_topic\n",
    "#         print message.value\n",
    "        print incoming_message\n",
    "        print \"--------------\"\n",
    "        plat = incoming_message[\"pickup_latitude\"];\n",
    "        if plat is None:\n",
    "            plat = 0\n",
    "        plon = incoming_message[\"pickup_longitude\"];\n",
    "        if plon is None:\n",
    "            plon = 0\n",
    "        dlat = incoming_message[\"dropoff_latitude\"];\n",
    "        if dlat is None:\n",
    "            dlat = 0\n",
    "        dlon = incoming_message[\"dropoff_longitude\"];\n",
    "        if dlon is None:\n",
    "            dlon = 0\n",
    "        ts = incoming_message[\"timestamp\"];\n",
    "        if ts is None:\n",
    "            ts = datetime.now().strftime(\"%Y-%m-%d %H:%M:%S.%f\")[:-3]\n",
    "        \n",
    "        \n",
    "        new_entry = {\"pick_location\": geohash.encode(plat, plon,precision=8),\n",
    "                    \"drop_location\":  geohash.encode(dlat, dlon,precision=8),\n",
    "                    \"time_stamp\": ts\n",
    "                      }\n",
    "        \n",
    "        print new_entry\n",
    "        es.index(index=incoming_topic, doc_type=incoming_topic[:-1], id=str(count), body =new_entry)\n",
    "\n",
    "\n",
    "\n",
    "  "
   ]
  },
  {
   "cell_type": "code",
   "execution_count": 11,
   "metadata": {
    "collapsed": false
   },
   "outputs": [],
   "source": [
    "def consume_messages(topics):\n",
    "    t = time.time()\n",
    "    # stop iterations after 20 secs\n",
    "    consumer = KafkaConsumer(bootstrap_servers=[port])\n",
    "    consumer.subscribe(topics)\n",
    "    count = 0\n",
    "    print port\n",
    "\n",
    "    for message in consumer:\n",
    "        # check for stopping input\n",
    "        signal.signal(signal.SIGINT , signal_handler)\n",
    "        incoming_message = json.loads(message.value,object_hook=_tostring)\n",
    "        incoming_topic = message.topic\n",
    "\n",
    "        # round trip for consistent values\n",
    "        # trip_dist = round(incoming_message[\"trip_distance\"][str(0)],2)\n",
    "        count = count + 1\n",
    "        print \"--------------\"\n",
    "        print incoming_topic\n",
    "#         print message.value\n",
    "        print incoming_message\n",
    "        print \"--------------\"\n",
    "        plat = incoming_message[\"pickup_latitude\"];\n",
    "        if plat is None:\n",
    "            plat = 0\n",
    "        plon = incoming_message[\"pickup_longitude\"];\n",
    "        if plon is None:\n",
    "            plon = 0\n",
    "        dlat = incoming_message[\"dropoff_latitude\"];\n",
    "        if dlat is None:\n",
    "            dlat = 0\n",
    "        dlon = incoming_message[\"dropoff_longitude\"];\n",
    "        if dlon is None:\n",
    "            dlon = 0\n",
    "        td = incoming_message[\"trip_distance\"];\n",
    "        if td is None:\n",
    "            td = 0\n",
    "        ts = incoming_message[\"timestamp\"];\n",
    "        if ts is None:\n",
    "            ts = datetime.now().strftime(\"%Y-%m-%d'T'%H:%M:%S.%f\")[:-3]\n",
    "        \n",
    "        \n",
    "        new_entry = {\"pick_location\": {\n",
    "                      \"lat\":  float(plat),\n",
    "                      \"lon\":  float(plon)\n",
    "                        },\n",
    "                    \"drop_location\": {\n",
    "                      \"lat\":  float(dlat),\n",
    "                      \"lon\":  float(dlon)\n",
    "                        },\n",
    "                    \"trip_distance\": float(td),\n",
    "                    \"time_stamp\": ts\n",
    "                      }\n",
    "        \n",
    "        print new_entry\n",
    "        es.index(index=incoming_topic, doc_type=incoming_topic[:-1], id=str(count), body =new_entry)\n"
   ]
  },
  {
   "cell_type": "code",
   "execution_count": 13,
   "metadata": {
    "collapsed": false
   },
   "outputs": [
    {
     "name": "stdout",
     "output_type": "stream",
     "text": [
      "ec2-34-193-153-112.compute-1.amazonaws.com:9092\n",
      "['stream_users', 'stream_cars', 'cars', 'users']\n",
      "34.193.153.112\n"
     ]
    }
   ],
   "source": [
    "# load configuration parameters\n",
    "config_path = 'config/stream_consumer_config.yml'\n",
    "config = yaml_loader(config_path)\n",
    "\n",
    "# initialize parameters\n",
    "port = config['port']\n",
    "topics = config['topics']\n",
    "namenodeip = config['namenodeip']\n",
    "\n",
    "# load mapping\n",
    "mapping = json_loader('config/stream_elasticsearch_config.json')\n",
    "print port\n",
    "print topics\n",
    "# print mapping\n",
    "print namenodeip\n"
   ]
  },
  {
   "cell_type": "code",
   "execution_count": 14,
   "metadata": {
    "collapsed": false
   },
   "outputs": [
    {
     "name": "stdout",
     "output_type": "stream",
     "text": [
      "<Elasticsearch([{}])>\n"
     ]
    }
   ],
   "source": [
    "es = Elasticsearch(http_auth=('elastic','changeme'))\n",
    "print es"
   ]
  },
  {
   "cell_type": "markdown",
   "metadata": {},
   "source": [
    "### Testing with example DB\n",
    "\n",
    "this creates and populates the index at the same time.  \n",
    "Kind of confusing if you are learning how to use elasticsearch.  \n",
    "Not sure why this was an example."
   ]
  },
  {
   "cell_type": "code",
   "execution_count": 15,
   "metadata": {
    "collapsed": false
   },
   "outputs": [
    {
     "name": "stdout",
     "output_type": "stream",
     "text": [
      "testing index creation\n",
      "False\n",
      "{u'text': u'Elasticsearch: cool. bonsai cool.', u'author': u'kimchy', u'timestamp': u'2017-02-05T16:07:22.274892'}\n"
     ]
    }
   ],
   "source": [
    "from datetime import datetime\n",
    "es = Elasticsearch(http_auth=('elastic','changeme'))\n",
    "print 'testing index creation'\n",
    "doc = {\n",
    "    'author': 'kimchy',\n",
    "    'text': 'Elasticsearch: cool. bonsai cool.',\n",
    "    'timestamp': datetime.now(),\n",
    "}\n",
    "res = es.index(index=\"test-index\", doc_type='tweet', id=1, body=doc)\n",
    "print(res['created'])\n",
    "res = es.get(index=\"test-index\", doc_type='tweet', id=1)\n",
    "print(res['_source'])"
   ]
  },
  {
   "cell_type": "markdown",
   "metadata": {},
   "source": [
    "### Testing my mapping in ElasticSearch"
   ]
  },
  {
   "cell_type": "code",
   "execution_count": 16,
   "metadata": {
    "collapsed": false
   },
   "outputs": [
    {
     "name": "stdout",
     "output_type": "stream",
     "text": [
      "True\n",
      "{u'text': u'heliotrope halcyon amarinthine.', u'drop_location': {u'lat': 40, u'lon': -74}, u'@timestamp': u\"2017-02-05'T'16:08:10.293\", u'pick_location': {u'lat': 40, u'lon': -74}}\n"
     ]
    }
   ],
   "source": [
    "map = {\"users\":{\n",
    "    \"mappings\":{\n",
    "      \"user\":{\n",
    "        \"_source\": { \"enabled\": True },\n",
    "        \"properties\": {\n",
    "          \"pick_location\": {\"type\": \"geo_point\"},\n",
    "          \"drop_location\": {\"type\": \"geo_point\"},\n",
    "          \"timestamp\":     {\"type\": \"date_hour_minute_second_millis\",    \"doc_values\": True, \"format\": \"yyyy-MM-dd'T'HH:mm:ss.SSS\"}\n",
    "            }\n",
    "          }\n",
    "      }\n",
    "    }\n",
    "    }\n",
    "doc = {\n",
    "    'text': 'heliotrope halcyon amarinthine.',\n",
    "    'pick_location':  {'lat': 40, 'lon': -74},\n",
    "    'drop_location': {'lat': 40, 'lon': -74},\n",
    "    '@timestamp': datetime.now().strftime(\"%Y-%m-%d'T'%H:%M:%S.%f\")[:-3],\n",
    "}\n",
    "es.indices.delete(index='testmaps',ignore=[400, 404])         \n",
    "es.indices.create(index='testmaps', ignore=400, body=map)\n",
    "res = es.index(index='testmaps', doc_type='users', id=1, body=doc)\n",
    "print(res['created'])\n",
    "res = es.get(index='testmaps', doc_type='users', id=1)\n",
    "print(res['_source'])"
   ]
  },
  {
   "cell_type": "code",
   "execution_count": 17,
   "metadata": {
    "collapsed": false
   },
   "outputs": [
    {
     "name": "stdout",
     "output_type": "stream",
     "text": [
      "stream_users\n"
     ]
    }
   ],
   "source": [
    "print topics[0]\n",
    "\n",
    "# ignore 400 cause by IndexAlreadyExistsException when creating an index\n",
    "res = es.indices.create(index=topics[0], ignore=400,body=mapping[topics[0]])"
   ]
  },
  {
   "cell_type": "code",
   "execution_count": 18,
   "metadata": {
    "collapsed": false
   },
   "outputs": [
    {
     "data": {
      "text/plain": [
       "{u'acknowledged': True}"
      ]
     },
     "execution_count": 18,
     "metadata": {},
     "output_type": "execute_result"
    }
   ],
   "source": [
    "### Remove the test indicies\n",
    "es.indices.delete(index=topics[0], ignore=[400, 404])\n",
    "es.indices.delete(index='my-index', ignore=[400, 404])\n",
    "es.indices.delete(index='test-index', ignore=[400, 404])\n",
    "es.indices.delete(index='twitter', ignore=[400, 404])\n",
    "es.indices.delete(index='cars', ignore=[400, 404])\n",
    "es.indices.delete(index='users', ignore=[400, 404])\n"
   ]
  },
  {
   "cell_type": "markdown",
   "metadata": {},
   "source": [
    "### Testing for all mappings"
   ]
  },
  {
   "cell_type": "code",
   "execution_count": 19,
   "metadata": {
    "collapsed": false
   },
   "outputs": [
    {
     "name": "stdout",
     "output_type": "stream",
     "text": [
      "subscribing elastic search to the following topics: ['stream_users', 'stream_cars', 'cars', 'users']\n",
      "stream_users\n",
      "stream_cars\n",
      "cars\n",
      "users\n"
     ]
    }
   ],
   "source": [
    "print \"subscribing elastic search to the following topics: \"+str(topics)\n",
    "\n",
    "# create index\n",
    "for index in topics:\n",
    "    print index\n",
    "    es.indices.delete(index=index,ignore=[400, 404])  \n",
    "    es.indices.create(index=index, ignore=400, body=mapping[index])  \n",
    "#     doc = {\n",
    "#     \"pickup_latitude\": \"43.001\",\n",
    "#     'pickup_longitude': '72.001',\n",
    "#     'dropoff_latitude': '43.001',\n",
    "#     'dropoff_longitude': '72.001',\n",
    "#     'time_stamp': datetime.now(),\n",
    "#     }\n",
    "#     res = es.index(index=index, doc_type='test-type', id=1, body=doc)"
   ]
  },
  {
   "cell_type": "markdown",
   "metadata": {},
   "source": [
    "### listing out all existing Indices\n",
    "\n",
    "indicies will not be found (do not completely exist)  \n",
    "until they have been populated with at least one item"
   ]
  },
  {
   "cell_type": "code",
   "execution_count": 20,
   "metadata": {
    "collapsed": false
   },
   "outputs": [
    {
     "name": "stdout",
     "output_type": "stream",
     "text": [
      ".monitoring-data-2\n",
      "timetest\n",
      "users\n",
      "testmaps\n",
      "cars\n",
      "attractions\n",
      "my_index\n",
      ".monitoring-es-2-2017.02.03\n",
      ".monitoring-es-2-2017.02.01\n",
      ".kibana\n",
      ".monitoring-es-2-2017.02.04\n",
      ".monitoring-es-2-2017.02.05\n",
      ".monitoring-kibana-2-2017.02.04\n",
      ".monitoring-kibana-2-2017.02.05\n",
      ".monitoring-kibana-2-2017.02.03\n",
      ".monitoring-es-2-2017.01.30\n",
      ".monitoring-es-2-2017.01.31\n"
     ]
    }
   ],
   "source": [
    "for index in es.indices.get('*'):\n",
    "  print index"
   ]
  },
  {
   "cell_type": "markdown",
   "metadata": {},
   "source": [
    "## (should stop after 5 secs) <span style=\"color:red\">  - get kafka running producer first! </span>"
   ]
  },
  {
   "cell_type": "code",
   "execution_count": 23,
   "metadata": {
    "collapsed": false
   },
   "outputs": [
    {
     "name": "stdout",
     "output_type": "stream",
     "text": [
      "ec2-34-193-153-112.compute-1.amazonaws.com:9092\n",
      "--------------\n",
      "users\n",
      "{u'trip_distance': 1.34, u'tolls_amount': 0, u'pickup_datetime': u'2013-05-01 00:04:00', u'tip_amount': 0, u'total_amount': 8, u'mta_tax': 0.5, u'vendor_id': u'VTS', u'fare_amount': 7, u'pickup_longitude': -73.982287, u'dropoff_longitude': -73.98621, u'passenger_count': 1, u'surcharge': 0.5, u'dropoff_datetime': u'2013-05-01 00:12:00', u'timestamp': u'2017-02-05 16:09:30.744', u'store_and_fwd_flag': None, u'rate_code': 1, u'pickup_latitude': 40.772815, u'dropoff_latitude': 40.758742, u'payment_type': u'CSH'}\n",
      "--------------\n",
      "{'time_stamp': u'2017-02-05 16:09:30.744', 'drop_location': 'dr5ru7uu', 'pick_location': 'dr5ruqrw'}\n",
      "--------------\n",
      "users\n",
      "{u'trip_distance': 2.6, u'tolls_amount': 0, u'pickup_datetime': u'2013-05-01 00:03:00', u'tip_amount': 2, u'total_amount': 12.5, u'mta_tax': 0.5, u'vendor_id': u'VTS', u'fare_amount': 9.5, u'pickup_longitude': -73.96300999999998, u'dropoff_longitude': -73.99187499999998, u'passenger_count': 5, u'surcharge': 0.5, u'dropoff_datetime': u'2013-05-01 00:10:00', u'timestamp': u'2017-02-05 16:09:31.753', u'store_and_fwd_flag': None, u'rate_code': 1, u'pickup_latitude': 40.7119, u'dropoff_latitude': 40.721917, u'payment_type': u'CRD'}\n",
      "--------------\n",
      "{'time_stamp': u'2017-02-05 16:09:31.753', 'drop_location': 'dr5rsm0y', 'pick_location': 'dr5rsgmu'}\n",
      "--------------\n",
      "users\n",
      "{u'trip_distance': 1.31, u'tolls_amount': 0, u'pickup_datetime': u'2013-05-01 00:04:00', u'tip_amount': 1, u'total_amount': 8.5, u'mta_tax': 0.5, u'vendor_id': u'VTS', u'fare_amount': 6.5, u'pickup_longitude': -73.98178, u'dropoff_longitude': -73.97375499999998, u'passenger_count': 2, u'surcharge': 0.5, u'dropoff_datetime': u'2013-05-01 00:10:00', u'timestamp': u'2017-02-05 16:09:32.758', u'store_and_fwd_flag': None, u'rate_code': 1, u'pickup_latitude': 40.724352, u'dropoff_latitude': 40.736892, u'payment_type': u'CRD'}\n",
      "--------------\n",
      "{'time_stamp': u'2017-02-05 16:09:32.758', 'drop_location': 'dr5rsxvv', 'pick_location': 'dr5rst8h'}\n",
      "--------------\n",
      "users\n",
      "{u'trip_distance': 1.65, u'tolls_amount': 0, u'pickup_datetime': u'2013-05-01 00:05:00', u'tip_amount': 1.8, u'total_amount': 11.3, u'mta_tax': 0.5, u'vendor_id': u'VTS', u'fare_amount': 8.5, u'pickup_longitude': -73.973917, u'dropoff_longitude': -73.99620299999998, u'passenger_count': 1, u'surcharge': 0.5, u'dropoff_datetime': u'2013-05-01 00:14:00', u'timestamp': u'2017-02-05 16:09:34.768', u'store_and_fwd_flag': None, u'rate_code': 1, u'pickup_latitude': 40.752787, u'dropoff_latitude': 40.755867, u'payment_type': u'CRD'}\n",
      "--------------\n",
      "{'time_stamp': u'2017-02-05 16:09:34.768', 'drop_location': 'dr5ru5ms', 'pick_location': 'dr5rudvf'}\n",
      "--------------\n",
      "users\n",
      "{u'trip_distance': 2.41, u'tolls_amount': 0, u'pickup_datetime': u'2013-05-01 00:00:00', u'tip_amount': 2.3, u'total_amount': 14.3, u'mta_tax': 0.5, u'vendor_id': u'VTS', u'fare_amount': 11, u'pickup_longitude': -74.00235499999998, u'dropoff_longitude': -73.972882, u'passenger_count': 5, u'surcharge': 0.5, u'dropoff_datetime': u'2013-05-01 00:12:00', u'timestamp': u'2017-02-05 16:09:35.772', u'store_and_fwd_flag': None, u'rate_code': 1, u'pickup_latitude': 40.750325, u'dropoff_latitude': 40.756097, u'payment_type': u'CRD'}\n",
      "--------------\n",
      "{'time_stamp': u'2017-02-05 16:09:35.772', 'drop_location': 'dr5rueqt', 'pick_location': 'dr5ru435'}\n",
      "--------------\n",
      "users\n",
      "{u'trip_distance': 2.44, u'tolls_amount': 0, u'pickup_datetime': u'2013-05-01 00:01:00', u'tip_amount': 1.5, u'total_amount': 12.5, u'mta_tax': 0.5, u'vendor_id': u'VTS', u'fare_amount': 10, u'pickup_longitude': -73.95011499999998, u'dropoff_longitude': -73.97731799999998, u'passenger_count': 1, u'surcharge': 0.5, u'dropoff_datetime': u'2013-05-01 00:10:00', u'timestamp': u'2017-02-05 16:09:36.777', u'store_and_fwd_flag': None, u'rate_code': 1, u'pickup_latitude': 40.771767, u'dropoff_latitude': 40.75924, u'payment_type': u'CRD'}\n",
      "--------------\n",
      "{'time_stamp': u'2017-02-05 16:09:36.777', 'drop_location': 'dr5ruegr', 'pick_location': 'dr5rvnr0'}\n",
      "--------------\n",
      "users\n",
      "{u'trip_distance': 2.42, u'tolls_amount': 0, u'pickup_datetime': u'2013-05-01 00:05:00', u'tip_amount': 1, u'total_amount': 11, u'mta_tax': 0.5, u'vendor_id': u'VTS', u'fare_amount': 9, u'pickup_longitude': -74.00929499999998, u'dropoff_longitude': -73.998672, u'passenger_count': 1, u'surcharge': 0.5, u'dropoff_datetime': u'2013-05-01 00:12:00', u'timestamp': u'2017-02-05 16:09:37.782', u'store_and_fwd_flag': None, u'rate_code': 1, u'pickup_latitude': 40.724732, u'dropoff_latitude': 40.754932, u'payment_type': u'CRD'}\n",
      "--------------\n",
      "{'time_stamp': u'2017-02-05 16:09:37.782', 'drop_location': 'dr5ru55y', 'pick_location': 'dr5revsn'}\n",
      "--------------\n",
      "users\n",
      "{u'trip_distance': 0.76, u'tolls_amount': 0, u'pickup_datetime': u'2013-05-01 00:04:00', u'tip_amount': 0, u'total_amount': 5, u'mta_tax': 0.5, u'vendor_id': u'VTS', u'fare_amount': 4, u'pickup_longitude': -73.979085, u'dropoff_longitude': -73.983017, u'passenger_count': 1, u'surcharge': 0.5, u'dropoff_datetime': u'2013-05-01 00:06:00', u'timestamp': u'2017-02-05 16:09:39.792', u'store_and_fwd_flag': None, u'rate_code': 1, u'pickup_latitude': 40.740397, u'dropoff_latitude': 40.731517, u'payment_type': u'CSH'}\n",
      "--------------\n",
      "{'time_stamp': u'2017-02-05 16:09:39.792', 'drop_location': 'dr5rsqzn', 'pick_location': 'dr5ru8d4'}\n",
      "--------------\n",
      "users\n",
      "{u'trip_distance': 0.93, u'tolls_amount': 0, u'pickup_datetime': u'2013-05-01 00:04:00', u'tip_amount': 0, u'total_amount': 5.5, u'mta_tax': 0.5, u'vendor_id': u'VTS', u'fare_amount': 4.5, u'pickup_longitude': -73.981722, u'dropoff_longitude': -73.97653699999998, u'passenger_count': 5, u'surcharge': 0.5, u'dropoff_datetime': u'2013-05-01 00:06:00', u'timestamp': u'2017-02-05 16:09:41.803', u'store_and_fwd_flag': None, u'rate_code': 1, u'pickup_latitude': 40.74101, u'dropoff_latitude': 40.751512, u'payment_type': u'CSH'}\n",
      "--------------\n",
      "{'time_stamp': u'2017-02-05 16:09:41.803', 'drop_location': 'dr5rudef', 'pick_location': 'dr5ru88j'}\n"
     ]
    },
    {
     "ename": "ConnectionTimeout",
     "evalue": "ConnectionTimeout caused by - ReadTimeoutError(HTTPConnectionPool(host='localhost', port=9200): Read timed out. (read timeout=10))",
     "output_type": "error",
     "traceback": [
      "\u001b[1;31m---------------------------------------------------------------------------\u001b[0m",
      "\u001b[1;31mConnectionTimeout\u001b[0m                         Traceback (most recent call last)",
      "\u001b[1;32m<ipython-input-23-4123efcf80ec>\u001b[0m in \u001b[0;36m<module>\u001b[1;34m()\u001b[0m\n\u001b[0;32m      1\u001b[0m \u001b[1;31m# consume messages from Kafka\u001b[0m\u001b[1;33m\u001b[0m\u001b[1;33m\u001b[0m\u001b[0m\n\u001b[1;32m----> 2\u001b[1;33m \u001b[0mconsume_messages_new\u001b[0m\u001b[1;33m(\u001b[0m\u001b[0mtopics\u001b[0m\u001b[1;33m)\u001b[0m\u001b[1;33m\u001b[0m\u001b[0m\n\u001b[0m",
      "\u001b[1;32m<ipython-input-22-41817aa1fb70>\u001b[0m in \u001b[0;36mconsume_messages_new\u001b[1;34m(topics)\u001b[0m\n\u001b[0;32m     45\u001b[0m \u001b[1;33m\u001b[0m\u001b[0m\n\u001b[0;32m     46\u001b[0m         \u001b[1;32mprint\u001b[0m \u001b[0mnew_entry\u001b[0m\u001b[1;33m\u001b[0m\u001b[0m\n\u001b[1;32m---> 47\u001b[1;33m         \u001b[0mes\u001b[0m\u001b[1;33m.\u001b[0m\u001b[0mindex\u001b[0m\u001b[1;33m(\u001b[0m\u001b[0mindex\u001b[0m\u001b[1;33m=\u001b[0m\u001b[0mincoming_topic\u001b[0m\u001b[1;33m,\u001b[0m \u001b[0mdoc_type\u001b[0m\u001b[1;33m=\u001b[0m\u001b[0mincoming_topic\u001b[0m\u001b[1;33m[\u001b[0m\u001b[1;33m:\u001b[0m\u001b[1;33m-\u001b[0m\u001b[1;36m1\u001b[0m\u001b[1;33m]\u001b[0m\u001b[1;33m,\u001b[0m \u001b[0mid\u001b[0m\u001b[1;33m=\u001b[0m\u001b[0mstr\u001b[0m\u001b[1;33m(\u001b[0m\u001b[0mcount\u001b[0m\u001b[1;33m)\u001b[0m\u001b[1;33m,\u001b[0m \u001b[0mbody\u001b[0m \u001b[1;33m=\u001b[0m\u001b[0mnew_entry\u001b[0m\u001b[1;33m)\u001b[0m\u001b[1;33m\u001b[0m\u001b[0m\n\u001b[0m\u001b[0;32m     48\u001b[0m \u001b[1;33m\u001b[0m\u001b[0m\n\u001b[0;32m     49\u001b[0m \u001b[1;33m\u001b[0m\u001b[0m\n",
      "\u001b[1;32m/usr/local/lib/python2.7/dist-packages/elasticsearch/client/utils.pyc\u001b[0m in \u001b[0;36m_wrapped\u001b[1;34m(*args, **kwargs)\u001b[0m\n\u001b[0;32m     69\u001b[0m                 \u001b[1;32mif\u001b[0m \u001b[0mp\u001b[0m \u001b[1;32min\u001b[0m \u001b[0mkwargs\u001b[0m\u001b[1;33m:\u001b[0m\u001b[1;33m\u001b[0m\u001b[0m\n\u001b[0;32m     70\u001b[0m                     \u001b[0mparams\u001b[0m\u001b[1;33m[\u001b[0m\u001b[0mp\u001b[0m\u001b[1;33m]\u001b[0m \u001b[1;33m=\u001b[0m \u001b[0mkwargs\u001b[0m\u001b[1;33m.\u001b[0m\u001b[0mpop\u001b[0m\u001b[1;33m(\u001b[0m\u001b[0mp\u001b[0m\u001b[1;33m)\u001b[0m\u001b[1;33m\u001b[0m\u001b[0m\n\u001b[1;32m---> 71\u001b[1;33m             \u001b[1;32mreturn\u001b[0m \u001b[0mfunc\u001b[0m\u001b[1;33m(\u001b[0m\u001b[1;33m*\u001b[0m\u001b[0margs\u001b[0m\u001b[1;33m,\u001b[0m \u001b[0mparams\u001b[0m\u001b[1;33m=\u001b[0m\u001b[0mparams\u001b[0m\u001b[1;33m,\u001b[0m \u001b[1;33m**\u001b[0m\u001b[0mkwargs\u001b[0m\u001b[1;33m)\u001b[0m\u001b[1;33m\u001b[0m\u001b[0m\n\u001b[0m\u001b[0;32m     72\u001b[0m         \u001b[1;32mreturn\u001b[0m \u001b[0m_wrapped\u001b[0m\u001b[1;33m\u001b[0m\u001b[0m\n\u001b[0;32m     73\u001b[0m     \u001b[1;32mreturn\u001b[0m \u001b[0m_wrapper\u001b[0m\u001b[1;33m\u001b[0m\u001b[0m\n",
      "\u001b[1;32m/usr/local/lib/python2.7/dist-packages/elasticsearch/client/__init__.pyc\u001b[0m in \u001b[0;36mindex\u001b[1;34m(self, index, doc_type, body, id, params)\u001b[0m\n\u001b[0;32m    298\u001b[0m                 \u001b[1;32mraise\u001b[0m \u001b[0mValueError\u001b[0m\u001b[1;33m(\u001b[0m\u001b[1;34m\"Empty value passed for a required argument.\"\u001b[0m\u001b[1;33m)\u001b[0m\u001b[1;33m\u001b[0m\u001b[0m\n\u001b[0;32m    299\u001b[0m         return self.transport.perform_request('POST' if id in SKIP_IN_PATH else 'PUT',\n\u001b[1;32m--> 300\u001b[1;33m             _make_path(index, doc_type, id), params=params, body=body)\n\u001b[0m\u001b[0;32m    301\u001b[0m \u001b[1;33m\u001b[0m\u001b[0m\n\u001b[0;32m    302\u001b[0m     \u001b[1;33m@\u001b[0m\u001b[0mquery_params\u001b[0m\u001b[1;33m(\u001b[0m\u001b[1;34m'parent'\u001b[0m\u001b[1;33m,\u001b[0m \u001b[1;34m'preference'\u001b[0m\u001b[1;33m,\u001b[0m \u001b[1;34m'realtime'\u001b[0m\u001b[1;33m,\u001b[0m \u001b[1;34m'refresh'\u001b[0m\u001b[1;33m,\u001b[0m \u001b[1;34m'routing'\u001b[0m\u001b[1;33m)\u001b[0m\u001b[1;33m\u001b[0m\u001b[0m\n",
      "\u001b[1;32m/usr/local/lib/python2.7/dist-packages/elasticsearch/transport.pyc\u001b[0m in \u001b[0;36mperform_request\u001b[1;34m(self, method, url, params, body)\u001b[0m\n\u001b[0;32m    316\u001b[0m \u001b[1;33m\u001b[0m\u001b[0m\n\u001b[0;32m    317\u001b[0m             \u001b[1;32mtry\u001b[0m\u001b[1;33m:\u001b[0m\u001b[1;33m\u001b[0m\u001b[0m\n\u001b[1;32m--> 318\u001b[1;33m                 \u001b[0mstatus\u001b[0m\u001b[1;33m,\u001b[0m \u001b[0mheaders\u001b[0m\u001b[1;33m,\u001b[0m \u001b[0mdata\u001b[0m \u001b[1;33m=\u001b[0m \u001b[0mconnection\u001b[0m\u001b[1;33m.\u001b[0m\u001b[0mperform_request\u001b[0m\u001b[1;33m(\u001b[0m\u001b[0mmethod\u001b[0m\u001b[1;33m,\u001b[0m \u001b[0murl\u001b[0m\u001b[1;33m,\u001b[0m \u001b[0mparams\u001b[0m\u001b[1;33m,\u001b[0m \u001b[0mbody\u001b[0m\u001b[1;33m,\u001b[0m \u001b[0mignore\u001b[0m\u001b[1;33m=\u001b[0m\u001b[0mignore\u001b[0m\u001b[1;33m,\u001b[0m \u001b[0mtimeout\u001b[0m\u001b[1;33m=\u001b[0m\u001b[0mtimeout\u001b[0m\u001b[1;33m)\u001b[0m\u001b[1;33m\u001b[0m\u001b[0m\n\u001b[0m\u001b[0;32m    319\u001b[0m \u001b[1;33m\u001b[0m\u001b[0m\n\u001b[0;32m    320\u001b[0m             \u001b[1;32mexcept\u001b[0m \u001b[0mTransportError\u001b[0m \u001b[1;32mas\u001b[0m \u001b[0me\u001b[0m\u001b[1;33m:\u001b[0m\u001b[1;33m\u001b[0m\u001b[0m\n",
      "\u001b[1;32m/usr/local/lib/python2.7/dist-packages/elasticsearch/connection/http_urllib3.pyc\u001b[0m in \u001b[0;36mperform_request\u001b[1;34m(self, method, url, params, body, timeout, ignore)\u001b[0m\n\u001b[0;32m    119\u001b[0m                 \u001b[1;32mraise\u001b[0m \u001b[0mSSLError\u001b[0m\u001b[1;33m(\u001b[0m\u001b[1;34m'N/A'\u001b[0m\u001b[1;33m,\u001b[0m \u001b[0mstr\u001b[0m\u001b[1;33m(\u001b[0m\u001b[0me\u001b[0m\u001b[1;33m)\u001b[0m\u001b[1;33m,\u001b[0m \u001b[0me\u001b[0m\u001b[1;33m)\u001b[0m\u001b[1;33m\u001b[0m\u001b[0m\n\u001b[0;32m    120\u001b[0m             \u001b[1;32mif\u001b[0m \u001b[0misinstance\u001b[0m\u001b[1;33m(\u001b[0m\u001b[0me\u001b[0m\u001b[1;33m,\u001b[0m \u001b[0mReadTimeoutError\u001b[0m\u001b[1;33m)\u001b[0m\u001b[1;33m:\u001b[0m\u001b[1;33m\u001b[0m\u001b[0m\n\u001b[1;32m--> 121\u001b[1;33m                 \u001b[1;32mraise\u001b[0m \u001b[0mConnectionTimeout\u001b[0m\u001b[1;33m(\u001b[0m\u001b[1;34m'TIMEOUT'\u001b[0m\u001b[1;33m,\u001b[0m \u001b[0mstr\u001b[0m\u001b[1;33m(\u001b[0m\u001b[0me\u001b[0m\u001b[1;33m)\u001b[0m\u001b[1;33m,\u001b[0m \u001b[0me\u001b[0m\u001b[1;33m)\u001b[0m\u001b[1;33m\u001b[0m\u001b[0m\n\u001b[0m\u001b[0;32m    122\u001b[0m             \u001b[1;32mraise\u001b[0m \u001b[0mConnectionError\u001b[0m\u001b[1;33m(\u001b[0m\u001b[1;34m'N/A'\u001b[0m\u001b[1;33m,\u001b[0m \u001b[0mstr\u001b[0m\u001b[1;33m(\u001b[0m\u001b[0me\u001b[0m\u001b[1;33m)\u001b[0m\u001b[1;33m,\u001b[0m \u001b[0me\u001b[0m\u001b[1;33m)\u001b[0m\u001b[1;33m\u001b[0m\u001b[0m\n\u001b[0;32m    123\u001b[0m \u001b[1;33m\u001b[0m\u001b[0m\n",
      "\u001b[1;31mConnectionTimeout\u001b[0m: ConnectionTimeout caused by - ReadTimeoutError(HTTPConnectionPool(host='localhost', port=9200): Read timed out. (read timeout=10))"
     ]
    }
   ],
   "source": [
    "# consume messages from Kafka\n",
    "consume_messages_new(topics)\n"
   ]
  },
  {
   "cell_type": "code",
   "execution_count": 19,
   "metadata": {
    "collapsed": false
   },
   "outputs": [
    {
     "data": {
      "text/plain": [
       "{}"
      ]
     },
     "execution_count": 19,
     "metadata": {},
     "output_type": "execute_result"
    }
   ],
   "source": [
    "es.search(index='cars', filter_path=['hits.hits._id', 'hits.hits._drop_location'])\n"
   ]
  },
  {
   "cell_type": "code",
   "execution_count": 19,
   "metadata": {
    "collapsed": false
   },
   "outputs": [
    {
     "name": "stdout",
     "output_type": "stream",
     "text": [
      "1 documents found\n",
      "2) {u'lat': 40.758742, u'lon': -73.98621} 2017-02-03 18:10:13.458\n"
     ]
    }
   ],
   "source": [
    "testq = {\n",
    "    \"query\" : { \"match_all\" : { } }\n",
    "}\n",
    "\n",
    "# body={\"query\": {\"match_all\": {}}}\n",
    "res = es.search(index=\"cars\", doc_type=\"car\", body=testq)\n",
    "print(\"%d documents found\" % res['hits']['total'])\n",
    "for doc in res['hits']['hits']:\n",
    "    print(\"%s) %s %s\" % (doc['_id'], doc['_source']['drop_location'], doc['_source']['timestamp']))\n",
    "\n"
   ]
  },
  {
   "cell_type": "code",
   "execution_count": 75,
   "metadata": {
    "collapsed": false
   },
   "outputs": [
    {
     "ename": "RequestError",
     "evalue": "TransportError(400, u'parsing_exception', u'Unknown key for a START_OBJECT in [filtered].')",
     "output_type": "error",
     "traceback": [
      "\u001b[1;31m---------------------------------------------------------------------------\u001b[0m",
      "\u001b[1;31mRequestError\u001b[0m                              Traceback (most recent call last)",
      "\u001b[1;32m<ipython-input-75-788d78acc707>\u001b[0m in \u001b[0;36m<module>\u001b[1;34m()\u001b[0m\n\u001b[0;32m     21\u001b[0m }\n\u001b[0;32m     22\u001b[0m \u001b[1;33m\u001b[0m\u001b[0m\n\u001b[1;32m---> 23\u001b[1;33m \u001b[0mresult\u001b[0m \u001b[1;33m=\u001b[0m \u001b[0mes\u001b[0m\u001b[1;33m.\u001b[0m\u001b[0msearch\u001b[0m\u001b[1;33m(\u001b[0m\u001b[0mindex\u001b[0m\u001b[1;33m=\u001b[0m\u001b[1;34m\"cars\"\u001b[0m\u001b[1;33m,\u001b[0m \u001b[0mdoc_type\u001b[0m\u001b[1;33m=\u001b[0m\u001b[1;34m\"car\"\u001b[0m\u001b[1;33m,\u001b[0m \u001b[0mbody\u001b[0m\u001b[1;33m=\u001b[0m\u001b[0mtestq2\u001b[0m\u001b[1;33m)\u001b[0m\u001b[1;33m\u001b[0m\u001b[0m\n\u001b[0m\u001b[0;32m     24\u001b[0m \u001b[1;32mfor\u001b[0m \u001b[0mhit\u001b[0m \u001b[1;32min\u001b[0m \u001b[0mresult\u001b[0m\u001b[1;33m[\u001b[0m\u001b[1;34m\"hits\"\u001b[0m\u001b[1;33m]\u001b[0m\u001b[1;33m[\u001b[0m\u001b[1;34m\"hits\"\u001b[0m\u001b[1;33m]\u001b[0m\u001b[1;33m:\u001b[0m\u001b[1;33m\u001b[0m\u001b[0m\n\u001b[0;32m     25\u001b[0m     \u001b[1;32mprint\u001b[0m \u001b[0mhit\u001b[0m\u001b[1;33m[\u001b[0m\u001b[1;34m\"_source\"\u001b[0m\u001b[1;33m]\u001b[0m\u001b[1;33m[\u001b[0m\u001b[1;34m\"drop_location\"\u001b[0m\u001b[1;33m]\u001b[0m\u001b[1;33m\u001b[0m\u001b[0m\n",
      "\u001b[1;32m/usr/local/lib/python2.7/dist-packages/elasticsearch/client/utils.pyc\u001b[0m in \u001b[0;36m_wrapped\u001b[1;34m(*args, **kwargs)\u001b[0m\n\u001b[0;32m     69\u001b[0m                 \u001b[1;32mif\u001b[0m \u001b[0mp\u001b[0m \u001b[1;32min\u001b[0m \u001b[0mkwargs\u001b[0m\u001b[1;33m:\u001b[0m\u001b[1;33m\u001b[0m\u001b[0m\n\u001b[0;32m     70\u001b[0m                     \u001b[0mparams\u001b[0m\u001b[1;33m[\u001b[0m\u001b[0mp\u001b[0m\u001b[1;33m]\u001b[0m \u001b[1;33m=\u001b[0m \u001b[0mkwargs\u001b[0m\u001b[1;33m.\u001b[0m\u001b[0mpop\u001b[0m\u001b[1;33m(\u001b[0m\u001b[0mp\u001b[0m\u001b[1;33m)\u001b[0m\u001b[1;33m\u001b[0m\u001b[0m\n\u001b[1;32m---> 71\u001b[1;33m             \u001b[1;32mreturn\u001b[0m \u001b[0mfunc\u001b[0m\u001b[1;33m(\u001b[0m\u001b[1;33m*\u001b[0m\u001b[0margs\u001b[0m\u001b[1;33m,\u001b[0m \u001b[0mparams\u001b[0m\u001b[1;33m=\u001b[0m\u001b[0mparams\u001b[0m\u001b[1;33m,\u001b[0m \u001b[1;33m**\u001b[0m\u001b[0mkwargs\u001b[0m\u001b[1;33m)\u001b[0m\u001b[1;33m\u001b[0m\u001b[0m\n\u001b[0m\u001b[0;32m     72\u001b[0m         \u001b[1;32mreturn\u001b[0m \u001b[0m_wrapped\u001b[0m\u001b[1;33m\u001b[0m\u001b[0m\n\u001b[0;32m     73\u001b[0m     \u001b[1;32mreturn\u001b[0m \u001b[0m_wrapper\u001b[0m\u001b[1;33m\u001b[0m\u001b[0m\n",
      "\u001b[1;32m/usr/local/lib/python2.7/dist-packages/elasticsearch/client/__init__.pyc\u001b[0m in \u001b[0;36msearch\u001b[1;34m(self, index, doc_type, body, params)\u001b[0m\n\u001b[0;32m    567\u001b[0m             \u001b[0mindex\u001b[0m \u001b[1;33m=\u001b[0m \u001b[1;34m'_all'\u001b[0m\u001b[1;33m\u001b[0m\u001b[0m\n\u001b[0;32m    568\u001b[0m         return self.transport.perform_request('GET', _make_path(index,\n\u001b[1;32m--> 569\u001b[1;33m             doc_type, '_search'), params=params, body=body)\n\u001b[0m\u001b[0;32m    570\u001b[0m \u001b[1;33m\u001b[0m\u001b[0m\n\u001b[0;32m    571\u001b[0m     @query_params('_source', '_source_exclude', '_source_include',\n",
      "\u001b[1;32m/usr/local/lib/python2.7/dist-packages/elasticsearch/transport.pyc\u001b[0m in \u001b[0;36mperform_request\u001b[1;34m(self, method, url, params, body)\u001b[0m\n\u001b[0;32m    316\u001b[0m \u001b[1;33m\u001b[0m\u001b[0m\n\u001b[0;32m    317\u001b[0m             \u001b[1;32mtry\u001b[0m\u001b[1;33m:\u001b[0m\u001b[1;33m\u001b[0m\u001b[0m\n\u001b[1;32m--> 318\u001b[1;33m                 \u001b[0mstatus\u001b[0m\u001b[1;33m,\u001b[0m \u001b[0mheaders\u001b[0m\u001b[1;33m,\u001b[0m \u001b[0mdata\u001b[0m \u001b[1;33m=\u001b[0m \u001b[0mconnection\u001b[0m\u001b[1;33m.\u001b[0m\u001b[0mperform_request\u001b[0m\u001b[1;33m(\u001b[0m\u001b[0mmethod\u001b[0m\u001b[1;33m,\u001b[0m \u001b[0murl\u001b[0m\u001b[1;33m,\u001b[0m \u001b[0mparams\u001b[0m\u001b[1;33m,\u001b[0m \u001b[0mbody\u001b[0m\u001b[1;33m,\u001b[0m \u001b[0mignore\u001b[0m\u001b[1;33m=\u001b[0m\u001b[0mignore\u001b[0m\u001b[1;33m,\u001b[0m \u001b[0mtimeout\u001b[0m\u001b[1;33m=\u001b[0m\u001b[0mtimeout\u001b[0m\u001b[1;33m)\u001b[0m\u001b[1;33m\u001b[0m\u001b[0m\n\u001b[0m\u001b[0;32m    319\u001b[0m \u001b[1;33m\u001b[0m\u001b[0m\n\u001b[0;32m    320\u001b[0m             \u001b[1;32mexcept\u001b[0m \u001b[0mTransportError\u001b[0m \u001b[1;32mas\u001b[0m \u001b[0me\u001b[0m\u001b[1;33m:\u001b[0m\u001b[1;33m\u001b[0m\u001b[0m\n",
      "\u001b[1;32m/usr/local/lib/python2.7/dist-packages/elasticsearch/connection/http_urllib3.pyc\u001b[0m in \u001b[0;36mperform_request\u001b[1;34m(self, method, url, params, body, timeout, ignore)\u001b[0m\n\u001b[0;32m    125\u001b[0m         \u001b[1;32mif\u001b[0m \u001b[1;32mnot\u001b[0m \u001b[1;33m(\u001b[0m\u001b[1;36m200\u001b[0m \u001b[1;33m<=\u001b[0m \u001b[0mresponse\u001b[0m\u001b[1;33m.\u001b[0m\u001b[0mstatus\u001b[0m \u001b[1;33m<\u001b[0m \u001b[1;36m300\u001b[0m\u001b[1;33m)\u001b[0m \u001b[1;32mand\u001b[0m \u001b[0mresponse\u001b[0m\u001b[1;33m.\u001b[0m\u001b[0mstatus\u001b[0m \u001b[1;32mnot\u001b[0m \u001b[1;32min\u001b[0m \u001b[0mignore\u001b[0m\u001b[1;33m:\u001b[0m\u001b[1;33m\u001b[0m\u001b[0m\n\u001b[0;32m    126\u001b[0m             \u001b[0mself\u001b[0m\u001b[1;33m.\u001b[0m\u001b[0mlog_request_fail\u001b[0m\u001b[1;33m(\u001b[0m\u001b[0mmethod\u001b[0m\u001b[1;33m,\u001b[0m \u001b[0mfull_url\u001b[0m\u001b[1;33m,\u001b[0m \u001b[0murl\u001b[0m\u001b[1;33m,\u001b[0m \u001b[0mbody\u001b[0m\u001b[1;33m,\u001b[0m \u001b[0mduration\u001b[0m\u001b[1;33m,\u001b[0m \u001b[0mresponse\u001b[0m\u001b[1;33m.\u001b[0m\u001b[0mstatus\u001b[0m\u001b[1;33m,\u001b[0m \u001b[0mraw_data\u001b[0m\u001b[1;33m)\u001b[0m\u001b[1;33m\u001b[0m\u001b[0m\n\u001b[1;32m--> 127\u001b[1;33m             \u001b[0mself\u001b[0m\u001b[1;33m.\u001b[0m\u001b[0m_raise_error\u001b[0m\u001b[1;33m(\u001b[0m\u001b[0mresponse\u001b[0m\u001b[1;33m.\u001b[0m\u001b[0mstatus\u001b[0m\u001b[1;33m,\u001b[0m \u001b[0mraw_data\u001b[0m\u001b[1;33m)\u001b[0m\u001b[1;33m\u001b[0m\u001b[0m\n\u001b[0m\u001b[0;32m    128\u001b[0m \u001b[1;33m\u001b[0m\u001b[0m\n\u001b[0;32m    129\u001b[0m         self.log_request_success(method, full_url, url, body, response.status,\n",
      "\u001b[1;32m/usr/local/lib/python2.7/dist-packages/elasticsearch/connection/base.pyc\u001b[0m in \u001b[0;36m_raise_error\u001b[1;34m(self, status_code, raw_data)\u001b[0m\n\u001b[0;32m    120\u001b[0m             \u001b[0mlogger\u001b[0m\u001b[1;33m.\u001b[0m\u001b[0mwarning\u001b[0m\u001b[1;33m(\u001b[0m\u001b[1;34m'Undecodable raw error response from server: %s'\u001b[0m\u001b[1;33m,\u001b[0m \u001b[0merr\u001b[0m\u001b[1;33m)\u001b[0m\u001b[1;33m\u001b[0m\u001b[0m\n\u001b[0;32m    121\u001b[0m \u001b[1;33m\u001b[0m\u001b[0m\n\u001b[1;32m--> 122\u001b[1;33m         \u001b[1;32mraise\u001b[0m \u001b[0mHTTP_EXCEPTIONS\u001b[0m\u001b[1;33m.\u001b[0m\u001b[0mget\u001b[0m\u001b[1;33m(\u001b[0m\u001b[0mstatus_code\u001b[0m\u001b[1;33m,\u001b[0m \u001b[0mTransportError\u001b[0m\u001b[1;33m)\u001b[0m\u001b[1;33m(\u001b[0m\u001b[0mstatus_code\u001b[0m\u001b[1;33m,\u001b[0m \u001b[0merror_message\u001b[0m\u001b[1;33m,\u001b[0m \u001b[0madditional_info\u001b[0m\u001b[1;33m)\u001b[0m\u001b[1;33m\u001b[0m\u001b[0m\n\u001b[0m\u001b[0;32m    123\u001b[0m \u001b[1;33m\u001b[0m\u001b[0m\n\u001b[0;32m    124\u001b[0m \u001b[1;33m\u001b[0m\u001b[0m\n",
      "\u001b[1;31mRequestError\u001b[0m: TransportError(400, u'parsing_exception', u'Unknown key for a START_OBJECT in [filtered].')"
     ]
    }
   ],
   "source": [
    "testq = {\n",
    "    \"query\" : { \"match_all\" : { } }\n",
    "}\n",
    "\n",
    "testq2 = {\n",
    "  \"filtered\" : {\n",
    "    \"query\" : { \"match_all\" : { } },\n",
    "        \"filter\" : {\n",
    "            \"match_all\" : { }\n",
    "            }\n",
    "        }\n",
    "    }\n",
    "\n",
    "\n",
    "search_body = {\n",
    "    \"constant_score\" : {\n",
    "        \"filter\" : {\n",
    "            \"exists\" : { \"field\" : \"drop_location\" }\n",
    "        }\n",
    "    }\n",
    "}\n",
    "\n",
    "result = es.search(index=\"cars\", doc_type=\"car\", body=testq2)\n",
    "for hit in result[\"hits\"][\"hits\"]:\n",
    "    print hit[\"_source\"][\"drop_location\"]\n",
    "\n",
    "    \n",
    "# res = es.search(index=\"cars\", doc_type=\"car\", body=testq)\n",
    "# print(\"%d documents found\" % res['hits']['total'])\n",
    "# for doc in res['hits']['hits']:\n",
    "#     print(\"%s) %s\" % (doc['_id'], doc['_source']['drop_location']))"
   ]
  },
  {
   "cell_type": "code",
   "execution_count": 70,
   "metadata": {
    "collapsed": false
   },
   "outputs": [],
   "source": [
    "qt =  { \n",
    "    \"bool\": { \n",
    "      \"must\": [\n",
    "        { \"match\": { \"title\":   \"Search\"        }}, \n",
    "        { \"match\": { \"content\": \"Elasticsearch\" }}  \n",
    "      ],\n",
    "      \"filter\": [ \n",
    "        { \"term\":  { \"status\": \"published\" }}, \n",
    "        { \"range\": { \"publish_date\": { \"gte\": \"2015-01-01\" }}} \n",
    "      ]\n",
    "    }\n",
    "  }"
   ]
  },
  {
   "cell_type": "code",
   "execution_count": 58,
   "metadata": {
    "collapsed": false
   },
   "outputs": [
    {
     "name": "stdout",
     "output_type": "stream",
     "text": [
      "test-index\n",
      ".monitoring-data-2\n",
      "users\n",
      "cars\n",
      ".monitoring-es-2-2017.02.03\n",
      ".monitoring-es-2-2017.02.01\n",
      ".monitoring-es-2-2017.01.30\n",
      ".monitoring-es-2-2017.01.31\n"
     ]
    }
   ],
   "source": [
    "for index in es.indices.get('*'):\n",
    "  print index"
   ]
  },
  {
   "cell_type": "code",
   "execution_count": null,
   "metadata": {
    "collapsed": true
   },
   "outputs": [],
   "source": []
  }
 ],
 "metadata": {
  "kernelspec": {
   "display_name": "Python 2",
   "language": "python",
   "name": "python2"
  },
  "language_info": {
   "codemirror_mode": {
    "name": "ipython",
    "version": 2
   },
   "file_extension": ".py",
   "mimetype": "text/x-python",
   "name": "python",
   "nbconvert_exporter": "python",
   "pygments_lexer": "ipython2",
   "version": "2.7.6"
  }
 },
 "nbformat": 4,
 "nbformat_minor": 0
}
